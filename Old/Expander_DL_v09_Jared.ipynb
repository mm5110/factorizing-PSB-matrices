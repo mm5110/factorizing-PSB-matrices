{
 "cells": [
  {
   "cell_type": "markdown",
   "metadata": {},
   "source": [
    "# Matrix Factorization with Expander Graphs"
   ]
  },
  {
   "cell_type": "markdown",
   "metadata": {},
   "source": [
    "## Supporting Functions\n",
    "\n",
    "### Functions for generating and checking data"
   ]
  },
  {
   "cell_type": "code",
   "execution_count": 1,
   "metadata": {
    "collapsed": true
   },
   "outputs": [],
   "source": [
    "# IMPORTS\n",
    "import numpy as np\n",
    "import copy\n",
    "import matplotlib.pyplot as plt\n",
    "from timeit import default_timer as timer\n",
    "\n",
    "\n",
    "# DATA GENERATION AND PERFORMANCE CHECKING FUNCTIONS\n",
    "def generate_latent(n,k,c1,c2):\n",
    "    b = c2-c1\n",
    "    a = c1/b\n",
    "    x = np.zeros(n)\n",
    "    locs = np.random.permutation(n)[:k]\n",
    "    x[locs] = 1\n",
    "    signs = np.sign(np.random.randn(k))\n",
    "    vals = b*(np.random.rand(k)+a)\n",
    "    x[locs] = x[locs]*vals*signs\n",
    "    return x\n",
    "\n",
    "def generate_exp_dictionary1(m,n,d):\n",
    "    A = np.zeros((m,n))\n",
    "    for i in range(n):\n",
    "        locs = np.random.permutation(m)[:d]\n",
    "        A[locs,i] = 1\n",
    "    return A\n",
    "\n",
    "def generate_exp_dictionary2(m,n,d):\n",
    "    A = np.zeros((m,n))\n",
    "    alpha = int(np.floor(m/d))\n",
    "    c = 0\n",
    "    while c<n:\n",
    "        perm = np.random.permutation(m)\n",
    "        zeta = min(n-c, alpha)\n",
    "        for j in range(zeta):\n",
    "            locs = perm[j*d:(j+1)*d]\n",
    "            A[locs,c] = 1\n",
    "            c = c+1\n",
    "    return A\n",
    "\n",
    "def check_dictionary(eps,n,d,A):\n",
    "    t = (1-4*eps)*d\n",
    "    mu_A = np.max(np.transpose(A)@A - d*np.identity(n))\n",
    "    if mu_A >= t:\n",
    "        print(\"Generation error, A is not expander for this value of epsilon, mu_A = \", str.format('{0:.2f}', mu_A),\", tau = \", str.format('{0:.2f}', t), \".\")\n",
    "        passed = False\n",
    "    else:\n",
    "        print(\"A passes coherence test, mu_A = \", str.format('{0:.2f}', mu_A),\", tau = \", str.format('{0:.2f}', t), \".\")\n",
    "        passed = True\n",
    "    return passed  \n",
    "        \n",
    "def check_recon_A(A,A_rec,d,eps,n):\n",
    "    print(\"Checking reconstruction of A.\")\n",
    "    col_sum = sum(A_rec)\n",
    "    print(str.format('{0:.1f}',100*len(col_sum[col_sum==d])/n), \"% of columns fully formed.\")\n",
    "    print(str.format('{0:.1f}',100*(n - len(col_sum[col_sum==d]) - len(col_sum[col_sum==0]))/n) , \"% of columns partially formed.\")\n",
    "    print(str.format('{0:.1f}', 100*len(col_sum[col_sum==0])/n), \"% of columns have no entries.\")\n",
    "    overlaps = np.transpose(A_rec)@A\n",
    "    A_rec_col, A_col = np.where(overlaps>(1-4*eps)*d)\n",
    "    if len(col_sum[col_sum==0])<n:\n",
    "        print(str.format('{0:.1f}', 100*len(A_rec_col)/(n - len(col_sum[col_sum==0]))), \"% of reconstructed (fully or partially) columns match with a column in target matrix.\")  \n",
    "    error = 0\n",
    "    missing = 0\n",
    "    P = np.zeros((n,n))\n",
    "    for i in range(len(A_rec_col)):\n",
    "        diff = A_rec[:, A_rec_col[i]] - A[:,A_col[i]]\n",
    "        error = error + sum(abs(diff[diff==1]))\n",
    "        missing = missing + sum(abs(diff[diff==-1]))\n",
    "        P[A_col[i], A_rec_col[i]] = 1\n",
    "    print(str.format('{0:.0f}', 100*(missing+d*n-len(A_rec_col)*d)/(d*n)), \"% of entries missing in total.\")\n",
    "    print(str.format('{0:.0f}', missing), \"entries missing in matched columns.\")\n",
    "    print(str.format('{0:.0f}', error), \"entries wrong in matched columns.\")\n",
    "    return P\n",
    "    \n",
    "def check_recon_X(X,X_rec,P,N,k,n):\n",
    "    X_perm = P@X_rec\n",
    "    print(\"Checking the values of X recovered.\")\n",
    "    tol = 10**-6\n",
    "    total_entries = N*k\n",
    "    total_entries_recovered = 0\n",
    "    correct_loc_correct_val = 0\n",
    "    correct_loc_wrong_val = 0\n",
    "    wrong_loc = 0\n",
    "    missing = 0\n",
    "    passed = True\n",
    "    for i in range(N):\n",
    "        for j in range(n):\n",
    "            if abs(X[j,i])>tol and abs(X_perm[j,i])>tol:\n",
    "                error = abs(X[j,i] - X_perm[j,i])\n",
    "                if error < tol:\n",
    "                    correct_loc_correct_val +=1\n",
    "                else:\n",
    "                    correct_loc_wrong_val += 1\n",
    "                    print(\"Column number = \", i, \", row number = \", j, \", true value = \", X[j,i], \"value found = \", X_perm[j,i])\n",
    "            elif abs(X[j,i])>tol and abs(X_perm[j,i])<tol:\n",
    "                missing += 1\n",
    "            elif abs(X[j,i])<tol and abs(X_perm[j,i])>tol:\n",
    "                wrong_loc += 1\n",
    "    print(str.format('{0:.1f}', 100*(correct_loc_correct_val/total_entries)), \"% of entries correctly recovered.\")\n",
    "    print(str.format('{0:.1f}', 100*(correct_loc_wrong_val/total_entries)), \"% of entries in correct location but have wrong value for location.\")\n",
    "    print(str.format('{0:.1f}', 100*(missing/total_entries)), \"% of entries missing.\")\n",
    "    return X_perm\n",
    "    "
   ]
  },
  {
   "cell_type": "markdown",
   "metadata": {},
   "source": [
    "### Auxillary functions"
   ]
  },
  {
   "cell_type": "code",
   "execution_count": 2,
   "metadata": {
    "collapsed": true
   },
   "outputs": [],
   "source": [
    "# USED IN BOTH EXPERIMENTS 1 and 2\n",
    "def xps2(y,x_vals,x_locs,A_rec,m,eps,d,k):\n",
    "    tol1 = 10**-8\n",
    "    tol2 = 10**-8\n",
    "    y_copy = copy.deepcopy(y)\n",
    "    t = (1-2*eps)*d\n",
    "    z1 = len(y_copy);\n",
    "    W = np.zeros((m,k))\n",
    "    vals = np.zeros(k)\n",
    "    q = 0\n",
    "    for i in range(z1):\n",
    "        if np.abs(y_copy[i])> tol1:\n",
    "            locs = list()\n",
    "            locs.append(i)\n",
    "            for j in range(i+1, m):\n",
    "                if np.abs(y_copy[j] - y_copy[i]) < tol2:\n",
    "                    locs.append(j)\n",
    "                    y_copy[j] = 0\n",
    "            match = np.where(y_copy[i]==x_vals)[0]\n",
    "            if not match:\n",
    "                if len(locs)>t:\n",
    "                    W[locs,q] = 1\n",
    "                    vals[q] = y_copy[i]\n",
    "                    q = q+1\n",
    "            elif len(match)==1:\n",
    "                A_rec[locs, x_locs[match[0]]] = 1\n",
    "            else:\n",
    "                print('ERROR - column value matches with more than 1 singleton value already extracted')\n",
    "        y_copy[i] = 0\n",
    "    W = W[:,:q]\n",
    "    vals = vals[:q]\n",
    "    return [W, A_rec, vals, q]\n",
    "\n",
    "def process_column2(y, A_rec, x, m, eps, d, k, c, dpid):\n",
    "    exit_flag = True\n",
    "    tau = (1-4*eps)*d\n",
    "    x_locs = np.nonzero(x)[0]\n",
    "    x_vals = np.zeros(len(x_locs))\n",
    "    for i in range(len(x_locs)):\n",
    "        x_vals[i] = x[x_locs[i]]  \n",
    "    [W, A_rec, vals, q] = xps2(y,x_vals,x_locs,A_rec,m,eps,d,k)\n",
    "    if q > 0:\n",
    "        match_check = np.zeros(q) \n",
    "        match_col_id = -0.5*np.ones(q)\n",
    "        data_id = dpid*np.ones(q)          \n",
    "        if c > 0:           \n",
    "            matches = np.transpose(W)@A_rec\n",
    "            matches[matches<=tau] = 0\n",
    "            matches[matches>tau] = 1\n",
    "            num_matches = matches.sum(axis=1)\n",
    "            col_ind = matches@np.arange(c)           \n",
    "            for i in range(q):\n",
    "                if num_matches[i] == 0:\n",
    "                    if c>=n:\n",
    "                        print(\"Error: trying to add new column which exceeds total number of columns\")\n",
    "                        exit_flag==False\n",
    "                elif num_matches[i] == 1:\n",
    "                    match_check[i] = 1                   \n",
    "                    z = int(col_ind[i])\n",
    "                    match_col_id[i] = z\n",
    "                elif num_matches[i] > 1:\n",
    "                    print(\"Error: partial support matches with \", num_matches[i],\" partially reconstructed columns of A.\")\n",
    "                    exit_flag = False\n",
    "    else:\n",
    "        exit_flag = False\n",
    "        match_check = []\n",
    "        match_col_id = []\n",
    "        data_id = []\n",
    "    return [W, A_rec, match_check, match_col_id, data_id, vals, exit_flag]\n",
    "\n",
    "def sort_unmatched_columns(W, eps, d, c): \n",
    "    q = W.shape[1]\n",
    "    col_id_new = -0.5*np.zeros(q)\n",
    "    tau = (1-4*eps)*d\n",
    "    matches = np.transpose(W)@W\n",
    "    matches[matches<=tau] = 0\n",
    "    matches[matches>tau] = 1\n",
    "    i =0\n",
    "    while i<q:\n",
    "        if sum(matches[:,i]) > 0:\n",
    "            temp = np.where(matches[:,i]==1)[0]\n",
    "            col_id_new[temp] = c\n",
    "            c +=1\n",
    "            for j in range(len(temp)):\n",
    "                matches[temp[j],:] = np.zeros(q)\n",
    "                matches[:,temp[j]] = np.zeros(q)\n",
    "        i +=1\n",
    "    return [col_id_new, c]\n",
    "\n",
    "def update_reconstruction(W, col_id, data_id, vals, A_rec, X_rec):\n",
    "    for i in range(len(col_id)):\n",
    "        A_rec[:, int(col_id[i])] += W[:,i]\n",
    "        X_rec[int(col_id[i]), int(data_id[i])] = vals[i]\n",
    "    A_rec[A_rec>0] = 1\n",
    "    return [A_rec, X_rec]\n",
    "\n",
    "\n",
    "def l0_decode(r, x, A, num_comp, alpha):\n",
    "    vals = np.unique(r)\n",
    "    vals = vals[vals!=0]\n",
    "    r_0 = np.count_nonzero(r)\n",
    "    for j in range(num_comp):\n",
    "        for v in np.nditer(vals):\n",
    "            u = r - v*A[:,j]\n",
    "            if r_0 - np.count_nonzero(u) >= alpha:\n",
    "                x[j] = x[j] + v\n",
    "    return x"
   ]
  },
  {
   "cell_type": "code",
   "execution_count": 3,
   "metadata": {
    "collapsed": true
   },
   "outputs": [],
   "source": [
    "# A = np.random.rand(4,5)\n",
    "# print(A)\n",
    "# x = np.array([1,2,4,1.5,0])\n",
    "# x_rec = np.zeros(5)\n",
    "# y = A@x\n",
    "# print(y)\n",
    "# x_rec = l0_decode(y, x_rec, A, 5, 2)\n",
    "# print(A.shape)"
   ]
  },
  {
   "cell_type": "markdown",
   "metadata": {},
   "source": [
    "### EBR Algorithm"
   ]
  },
  {
   "cell_type": "code",
   "execution_count": 5,
   "metadata": {
    "collapsed": true
   },
   "outputs": [],
   "source": [
    "def EBR(Y,N,m,n,d,k,eps,max_epochs,A_sparsity,X_sparsity,Y_frob):\n",
    "    epoch = 0\n",
    "    c = 0\n",
    "    tol = 10**-8 # make sure is smaller than 1\n",
    "    exit_program=False  \n",
    "    A_rec = np.zeros((m,n))\n",
    "    X_rec = np.zeros((n,N))\n",
    "    frob_error_series = np.ones(max_epoch)\n",
    "    A_entries = np.zeros(max_epoch)\n",
    "    X_entries = np.zeros(max_epoch)\n",
    "    total_entries = np.zeros(max_epoch)\n",
    "    R = copy.deepcopy(Y)    \n",
    "    start_time = timer()\n",
    "    while epoch < max_epoch and frob_error_series[epoch] > tol and exit_program==False:            \n",
    "        num_matched = 0\n",
    "        num_new = 0    \n",
    "        for i in range(N):\n",
    "            [W, A_rec[:,:c], match_check, match_col_id, data_id, vals, supports_found]=process_column2(R[:,i], A_rec[:,:c], X_rec[:,i], m, eps, d, k, c, i)            \n",
    "            if supports_found == True:\n",
    "                matches = np.where(match_check==1)[0]\n",
    "                new = np.where(match_check==0)[0]\n",
    "                if len(matches)>0:\n",
    "                    if num_matched > 0:\n",
    "                        W_match = np.concatenate((W_match, W[:,matches]), axis=1)\n",
    "                        col_id_match = np.concatenate((col_id_match, match_col_id[matches]), axis=0)\n",
    "                        data_id_match = np.concatenate((data_id_match, data_id[matches]), axis=0)\n",
    "                        val_match = np.concatenate((val_match, vals[matches]), axis=0)\n",
    "                    else:\n",
    "                        W_match = W[:,matches]\n",
    "                        col_id_match = match_col_id[matches]\n",
    "                        data_id_match = data_id[matches]\n",
    "                        val_match = vals[matches]\n",
    "                        num_matched += W_match.shape[1]\n",
    "\n",
    "                if len(new)>0:\n",
    "                    if num_new > 0:\n",
    "                        W_new = np.concatenate((W_new, W[:,new]), axis=1)\n",
    "                        data_id_new = np.concatenate((data_id_new, data_id[new]), axis=0)\n",
    "                        val_new = np.concatenate((val_new, vals[new]), axis=0)\n",
    "                    else:\n",
    "                        W_new = W[:,new]\n",
    "                        data_id_new = data_id[new]\n",
    "                        val_new = vals[new]\n",
    "                        num_new += W_new.shape[1]\n",
    "\n",
    "        if num_matched > 0 and num_new > 0:\n",
    "            [col_id_new, c] = sort_unmatched_columns(W_new, eps, d, c)       \n",
    "            W_all = np.concatenate((W_match, W_new), axis=1)\n",
    "            col_id_all = np.concatenate((col_id_match, col_id_new), axis=0)\n",
    "            data_id_all = np.concatenate((data_id_match, data_id_new), axis=0)\n",
    "            val_all = np.concatenate((val_match, val_new), axis=0)          \n",
    "        elif num_matched > 0 and num_new == 0:\n",
    "            W_all = W_match\n",
    "            col_id_all = col_id_match\n",
    "            data_id_all = data_id_match\n",
    "            val_all = val_match     \n",
    "        elif num_matched == 0 and num_new > 0:\n",
    "            [col_id_all, c] = sort_unmatched_columns(W_new, eps, d, c)\n",
    "            W_all = W_new\n",
    "            data_id_all = data_id_new\n",
    "            val_all = val_new                       \n",
    "        elif num_matched == 0 and num_new == 0:\n",
    "            print(\"No partial supports recovered, terminating algorithm\")\n",
    "            frob_error_series[epoch:] = frob_error_series[epoch-1]\n",
    "            A_entries[epoch:] = A_entries[epoch-1]\n",
    "            X_entries[epoch:] = X_entries[epoch-1]\n",
    "            total_entries[epoch:] = total_entries[epoch-1]\n",
    "            exit_program = True\n",
    "        if exit_program == False:\n",
    "            [A_rec, X_rec] = update_reconstruction(W_all, col_id_all, data_id_all, val_all, A_rec, X_rec)\n",
    "            R = Y - A_rec@X_rec\n",
    "            R[R<tol] = 0\n",
    "            frob_error_series[epoch] = np.sqrt(sum(sum(R**2)))\n",
    "            A_entries[epoch] = np.count_nonzero(A_rec)\n",
    "            X_entries[epoch] = np.count_nonzero(X_rec)\n",
    "            total_entries[epoch] = A_entries[epoch] + X_entries[epoch]    \n",
    "            print('Epoch ', str.format('{0:.0f}', epoch), \" processed, l_2 error = \", str.format('{0:.2f}', 100*frob_error_series[epoch]/Y_frob), '%, A l_0 error =', str.format('{0:.2f}', 100*(A_sparsity - A_entries[epoch])/A_sparsity), '%, X l_0 error =', str.format('{0:.2f}', 100*(X_sparsity - X_entries[epoch])/X_sparsity), '%.')\n",
    "            if epoch == max_epoch:\n",
    "                print(\"Maximum number of epochs reached.\")\n",
    "            epoch +=1\n",
    "    \n",
    "    end_time = timer()\n",
    "    comp_time = end_time - start_time\n",
    "    return [A_rec, X_rec, frob_error_series, total_entries, A_entries, X_entries, comp_time]"
   ]
  },
  {
   "cell_type": "code",
   "execution_count": 6,
   "metadata": {
    "collapsed": true
   },
   "outputs": [],
   "source": [
    "def EBR_l0(Y,N,m,n,d,k,eps,max_epochs,A_sparsity,X_sparsity,Y_frob, alpha):\n",
    "    epoch = 0\n",
    "    c = 0\n",
    "    tol = 10**-5 # make sure is smaller than 1\n",
    "    exit_program=False  \n",
    "    A_rec = np.zeros((m,n))\n",
    "    X_rec = np.zeros((n,N))\n",
    "    frob_error_series = np.ones(max_epoch)\n",
    "    A_entries = np.zeros(max_epoch)\n",
    "    X_entries = np.zeros(max_epoch)\n",
    "    total_entries = np.zeros(max_epoch)\n",
    "    R = copy.deepcopy(Y)    \n",
    "    start_time = timer()\n",
    "    while epoch < max_epoch and frob_error_series[epoch] > tol and exit_program==False:            \n",
    "        num_matched = 0\n",
    "        num_new = 0    \n",
    "        for i in range(N):\n",
    "            [W, A_rec[:,:c], match_check, match_col_id, data_id, vals, supports_found]=process_column2(R[:,i], A_rec[:,:c], X_rec[:,i], m, eps, d, k, c, i)\n",
    "            if supports_found == True:\n",
    "                matches = np.where(match_check==1)[0]\n",
    "                new = np.where(match_check==0)[0]\n",
    "                if len(matches)>0:\n",
    "                    if num_matched > 0:\n",
    "                        W_match = np.concatenate((W_match, W[:,matches]), axis=1)\n",
    "                        col_id_match = np.concatenate((col_id_match, match_col_id[matches]), axis=0)\n",
    "                        data_id_match = np.concatenate((data_id_match, data_id[matches]), axis=0)\n",
    "                        val_match = np.concatenate((val_match, vals[matches]), axis=0)\n",
    "                    else:\n",
    "                        W_match = W[:,matches]\n",
    "                        col_id_match = match_col_id[matches]\n",
    "                        data_id_match = data_id[matches]\n",
    "                        val_match = vals[matches]\n",
    "                        num_matched += W_match.shape[1]\n",
    "\n",
    "                if len(new)>0:\n",
    "                    if num_new > 0:\n",
    "                        W_new = np.concatenate((W_new, W[:,new]), axis=1)\n",
    "                        data_id_new = np.concatenate((data_id_new, data_id[new]), axis=0)\n",
    "                        val_new = np.concatenate((val_new, vals[new]), axis=0)\n",
    "                    else:\n",
    "                        W_new = W[:,new]\n",
    "                        data_id_new = data_id[new]\n",
    "                        val_new = vals[new]\n",
    "                        num_new += W_new.shape[1]\n",
    "\n",
    "        if num_matched > 0 and num_new > 0:\n",
    "            [col_id_new, c] = sort_unmatched_columns(W_new, eps, d, c)       \n",
    "            W_all = np.concatenate((W_match, W_new), axis=1)\n",
    "            col_id_all = np.concatenate((col_id_match, col_id_new), axis=0)\n",
    "            data_id_all = np.concatenate((data_id_match, data_id_new), axis=0)\n",
    "            val_all = np.concatenate((val_match, val_new), axis=0)          \n",
    "        elif num_matched > 0 and num_new == 0:\n",
    "            W_all = W_match\n",
    "            col_id_all = col_id_match\n",
    "            data_id_all = data_id_match\n",
    "            val_all = val_match     \n",
    "        elif num_matched == 0 and num_new > 0:\n",
    "            [col_id_all, c] = sort_unmatched_columns(W_new, eps, d, c)\n",
    "            W_all = W_new\n",
    "            data_id_all = data_id_new\n",
    "            val_all = val_new                       \n",
    "        elif num_matched == 0 and num_new == 0:\n",
    "            print(\"No partial supports recovered, terminating algorithm\")\n",
    "            frob_error_series[epoch:] = frob_error_series[epoch-1]\n",
    "            A_entries[epoch:] = A_entries[epoch-1]\n",
    "            X_entries[epoch:] = X_entries[epoch-1]\n",
    "            total_entries[epoch:] = total_entries[epoch-1]\n",
    "            exit_program = True    \n",
    "        \n",
    "        if exit_program == False:\n",
    "            [A_rec, X_rec] = update_reconstruction(W_all, col_id_all, data_id_all, val_all, A_rec, X_rec)\n",
    "            R = Y - A_rec@X_rec\n",
    "            R[R<tol] = 0         \n",
    "            ### RUN l-0 HERE using completed columns ####\n",
    "            col_sumA = np.sum(A_rec, axis = 0)\n",
    "            col_sumA[col_sumA != d] = 0\n",
    "            comp = np.nonzero(col_sumA)[0]\n",
    "            num_comp = len(comp)\n",
    "            \n",
    "            col_sumR = np.sum(R**2, axis = 0)\n",
    "            col_sumR[col_sumR < tol] = 0\n",
    "            not_dec = np.nonzero(col_sumR)[0]\n",
    "            for j in np.nditer(not_dec):\n",
    "                X_rec[comp,j] = l0_decode(R[:,j], X_rec[comp, j], A_rec[:,comp], num_comp, alpha)\n",
    "            ############################################\n",
    "            R = Y - A_rec@X_rec\n",
    "            R[R<tol] = 0            \n",
    "            frob_error_series[epoch] = np.sqrt(sum(sum(R**2)))\n",
    "            A_entries[epoch] = np.count_nonzero(A_rec)\n",
    "            X_entries[epoch] = np.count_nonzero(X_rec)\n",
    "            total_entries[epoch] = A_entries[epoch] + X_entries[epoch]    \n",
    "            print('Epoch ', str.format('{0:.0f}', epoch), \" processed, l_2 error = \", str.format('{0:.2f}', 100*frob_error_series[epoch]/Y_frob), '%, A l_0 error =', str.format('{0:.2f}', 100*(A_sparsity - A_entries[epoch])/A_sparsity), '%, X l_0 error =', str.format('{0:.2f}', 100*(X_sparsity - X_entries[epoch])/X_sparsity), '%.')\n",
    "            if epoch == max_epoch:\n",
    "                print(\"Maximum number of epochs reached.\")\n",
    "            epoch +=1\n",
    "    \n",
    "    end_time = timer()\n",
    "    comp_time = end_time - start_time\n",
    "    return [A_rec, X_rec, frob_error_series, total_entries, A_entries, X_entries, comp_time]"
   ]
  },
  {
   "cell_type": "code",
   "execution_count": 21,
   "metadata": {
    "collapsed": true
   },
   "outputs": [],
   "source": [
    "# !!!!!!!!!!!!!!!!!!!!!!!!!!!!!!!!!!!!!!\n",
    "# !!!!!!!!!!!!!!!!!!!!!!!!!!!!!!!!!!!!!!\n",
    "# !!!!!!!!!!!!!!!!!!!!!!!!!!!!!!!!!!!!!!\n",
    "# !!!!!!!!!!!!!!!!!!!!!!!!!!!!!!!!!!!!!!\n",
    "\n",
    "def EBR_NEW(Y,N,m,n,d,k,eps,max_epochs,A_sparsity,X_sparsity,Y_frob, alpha):\n",
    "    epoch = 0\n",
    "    c = 0\n",
    "    tol = 10**-5 # make sure is smaller than 1\n",
    "    exit_program=False  \n",
    "    A_rec = np.zeros((m,n))\n",
    "    X_rec = np.zeros((n,N))\n",
    "    frob_error_series = np.ones(max_epoch)\n",
    "    A_entries = np.zeros(max_epoch)\n",
    "    X_entries = np.zeros(max_epoch)\n",
    "    total_entries = np.zeros(max_epoch)\n",
    "    R = copy.deepcopy(Y)    \n",
    "    start_time = timer()\n",
    "    while epoch < max_epochs and frob_error_series[epoch] > tol and exit_program==False:            \n",
    "        num_matched = 0\n",
    "        num_new = 0    \n",
    "        for i in range(N):\n",
    "            [W, A_rec[:,:c], match_check, match_col_id, data_id, vals, supports_found]=process_column2(R[:,i], A_rec[:,:c], X_rec[:,i], m, eps, d, k, c, i)\n",
    "            if supports_found == True:\n",
    "                matches = np.where(match_check==1)[0]\n",
    "                new = np.where(match_check==0)[0]\n",
    "                if len(matches)>0:\n",
    "                    if num_matched > 0:\n",
    "                        W_match = np.concatenate((W_match, W[:,matches]), axis=1)\n",
    "                        col_id_match = np.concatenate((col_id_match, match_col_id[matches]), axis=0)\n",
    "                        data_id_match = np.concatenate((data_id_match, data_id[matches]), axis=0)\n",
    "                        val_match = np.concatenate((val_match, vals[matches]), axis=0)\n",
    "                    else:\n",
    "                        W_match = W[:,matches]\n",
    "                        col_id_match = match_col_id[matches]\n",
    "                        data_id_match = data_id[matches]\n",
    "                        val_match = vals[matches]\n",
    "                        num_matched += W_match.shape[1]\n",
    "\n",
    "                if len(new)>0:\n",
    "                    if num_new > 0:\n",
    "                        W_new = np.concatenate((W_new, W[:,new]), axis=1)\n",
    "                        data_id_new = np.concatenate((data_id_new, data_id[new]), axis=0)\n",
    "                        val_new = np.concatenate((val_new, vals[new]), axis=0)\n",
    "                    else:\n",
    "                        W_new = W[:,new]\n",
    "                        data_id_new = data_id[new]\n",
    "                        val_new = vals[new]\n",
    "                        num_new += W_new.shape[1]\n",
    "\n",
    "        if num_matched > 0 and num_new > 0:\n",
    "            [col_id_new, c] = sort_unmatched_columns(W_new, eps, d, c)       \n",
    "            W_all = np.concatenate((W_match, W_new), axis=1)\n",
    "            col_id_all = np.concatenate((col_id_match, col_id_new), axis=0)\n",
    "            data_id_all = np.concatenate((data_id_match, data_id_new), axis=0)\n",
    "            val_all = np.concatenate((val_match, val_new), axis=0)          \n",
    "        elif num_matched > 0 and num_new == 0:\n",
    "            W_all = W_match\n",
    "            col_id_all = col_id_match\n",
    "            data_id_all = data_id_match\n",
    "            val_all = val_match     \n",
    "        elif num_matched == 0 and num_new > 0:\n",
    "            [col_id_all, c] = sort_unmatched_columns(W_new, eps, d, c)\n",
    "            W_all = W_new\n",
    "            data_id_all = data_id_new\n",
    "            val_all = val_new                       \n",
    "        elif num_matched == 0 and num_new == 0:\n",
    "            print(\"No partial supports recovered, terminating algorithm\")\n",
    "            frob_error_series[epoch:] = frob_error_series[epoch-1]\n",
    "            A_entries[epoch:] = A_entries[epoch-1]\n",
    "            X_entries[epoch:] = X_entries[epoch-1]\n",
    "            total_entries[epoch:] = total_entries[epoch-1]\n",
    "            exit_program = True    \n",
    "        \n",
    "        temp = np.sum(A_rec, axis=0)\n",
    "        comp_cols = sum(temp(temp==d))\n",
    "        print(\"Number of columns completed after epoch\", str.format('{0:.0f}', epoch))\n",
    "        print(comp_cols)\n",
    "        \n",
    "        if exit_program == False:\n",
    "            [A_rec, X_rec] = update_reconstruction(W_all, col_id_all, data_id_all, val_all, A_rec, X_rec)\n",
    "            R = Y - A_rec@X_rec\n",
    "            R[R<tol] = 0         \n",
    "            ### RUN l-0 HERE using competed columns ####\n",
    "            col_sumA = np.sum(A_rec, axis = 0)\n",
    "            col_sumA[col_sumA != d] = 0\n",
    "            comp = np.nonzero(col_sumA)[0]\n",
    "            num_comp = len(comp)\n",
    "            \n",
    "            col_sumR = np.sum(R**2, axis = 0)\n",
    "            col_sumR[col_sumR < tol] = 0\n",
    "            not_dec = np.nonzero(col_sumR)[0]\n",
    "            for j in np.nditer(not_dec):\n",
    "                X_rec[comp,j] = l0_decode(R[:,j], X_rec[comp, j], A_rec[:,comp], num_comp, alpha)\n",
    "            ############################################\n",
    "            R = Y - A_rec@X_rec\n",
    "            R[R<tol] = 0            \n",
    "            frob_error_series[epoch] = np.sqrt(sum(sum(R**2)))\n",
    "            A_entries[epoch] = np.count_nonzero(A_rec)\n",
    "            X_entries[epoch] = np.count_nonzero(X_rec)\n",
    "            total_entries[epoch] = A_entries[epoch] + X_entries[epoch]    \n",
    "            print('Epoch ', str.format('{0:.0f}', epoch), \" processed, l_2 error = \", str.format('{0:.2f}', 100*frob_error_series[epoch]/Y_frob), '%, A l_0 error =', str.format('{0:.2f}', 100*(A_sparsity - A_entries[epoch])/A_sparsity), '%, X l_0 error =', str.format('{0:.2f}', 100*(X_sparsity - X_entries[epoch])/X_sparsity), '%.')\n",
    "            if epoch == max_epoch:\n",
    "                print(\"Maximum number of epochs reached.\")\n",
    "            epoch +=1\n",
    "    \n",
    "    end_time = timer()\n",
    "    comp_time = end_time - start_time\n",
    "    return [A_rec, X_rec, frob_error_series, total_entries, A_entries, X_entries, comp_time]"
   ]
  },
  {
   "cell_type": "markdown",
   "metadata": {},
   "source": [
    "## Test with Jared"
   ]
  },
  {
   "cell_type": "code",
   "execution_count": 9,
   "metadata": {
    "collapsed": true
   },
   "outputs": [],
   "source": [
    "k = 60\n",
    "d = 10\n",
    "m=1400\n",
    "n = 1500\n",
    "N=750\n",
    "eps = 1/6"
   ]
  },
  {
   "cell_type": "code",
   "execution_count": 10,
   "metadata": {},
   "outputs": [
    {
     "name": "stdout",
     "output_type": "stream",
     "text": [
      "A passes coherence test, mu_A =  3.00 , tau =  3.33 .\n",
      "Generated dictionary that passes the coherency test\n"
     ]
    }
   ],
   "source": [
    "# Generate a dictionary and check that passes necessary test.\n",
    "num_generations = 0\n",
    "passed = False\n",
    "while passed==False and num_generations < 100:\n",
    "    A = generate_exp_dictionary2(m,n,d);\n",
    "    passed = check_dictionary(eps,n,d,A)\n",
    "    num_generations += 1\n",
    "if passed == True:\n",
    "    print(\"Generated dictionary that passes the coherency test\")\n",
    "else:\n",
    "    print(\"Failed to generate dictionary that passes the coherency test, consider different parameters\")"
   ]
  },
  {
   "cell_type": "code",
   "execution_count": 13,
   "metadata": {},
   "outputs": [],
   "source": [
    "# Generate an X\n",
    "b1=1;\n",
    "b2=5;\n",
    "X = np.zeros((n, N))\n",
    "Y = np.zeros((m, N))\n",
    "for i in range(N):\n",
    "    X[:,i] = generate_latent(n,k,b1,b2)\n",
    "Y = A@X"
   ]
  },
  {
   "cell_type": "code",
   "execution_count": 14,
   "metadata": {},
   "outputs": [
    {
     "name": "stdout",
     "output_type": "stream",
     "text": [
      "Epoch  0  processed, l_2 error =  46.01 %, A l_0 error = 0.00 %, X l_0 error = 41.45 %.\n",
      "Epoch  1  processed, l_2 error =  25.15 %, A l_0 error = 0.00 %, X l_0 error = 27.40 %.\n",
      "Epoch  2  processed, l_2 error =  16.44 %, A l_0 error = 0.00 %, X l_0 error = 23.76 %.\n",
      "Epoch  3  processed, l_2 error =  13.55 %, A l_0 error = 0.00 %, X l_0 error = 22.83 %.\n",
      "Epoch  4  processed, l_2 error =  12.69 %, A l_0 error = 0.00 %, X l_0 error = 22.56 %.\n",
      "Epoch  5  processed, l_2 error =  12.49 %, A l_0 error = 0.00 %, X l_0 error = 22.50 %.\n",
      "Epoch  6  processed, l_2 error =  12.45 %, A l_0 error = 0.00 %, X l_0 error = 22.49 %.\n",
      "Epoch  7  processed, l_2 error =  12.44 %, A l_0 error = 0.00 %, X l_0 error = 22.48 %.\n",
      "Epoch  8  processed, l_2 error =  12.42 %, A l_0 error = 0.00 %, X l_0 error = 22.48 %.\n",
      "Epoch  9  processed, l_2 error =  12.40 %, A l_0 error = 0.00 %, X l_0 error = 22.47 %.\n"
     ]
    }
   ],
   "source": [
    "max_epoch = 10\n",
    "A_sparsity = d*n\n",
    "X_sparsity = k*N\n",
    "Y_frob = np.sqrt(sum(sum(Y**2)))\n",
    "\n",
    "[A_rec, X_rec, frob_error_series, total_entries, A_entries, X_entries, comp_time] = EBR(Y,N,m,n,d,k,eps,max_epoch,A_sparsity,X_sparsity,Y_frob)"
   ]
  },
  {
   "cell_type": "code",
   "execution_count": 19,
   "metadata": {},
   "outputs": [
    {
     "data": {
      "text/plain": [
       "<matplotlib.legend.Legend at 0x120e65160>"
      ]
     },
     "execution_count": 19,
     "metadata": {},
     "output_type": "execute_result"
    },
    {
     "data": {
      "text/plain": [
       "<matplotlib.figure.Figure at 0x120ae0c18>"
      ]
     },
     "metadata": {},
     "output_type": "display_data"
    },
    {
     "data": {
      "image/png": "[encoded data removed]",
      "text/plain": [
       "<matplotlib.figure.Figure at 0x120ae0be0>"
      ]
     },
     "metadata": {},
     "output_type": "display_data"
    }
   ],
   "source": [
    "plot_A_entries = 100*A_entries/A_sparsity\n",
    "\n",
    "plot_X_entries = np.zeros(max_epoch)\n",
    "plot_frob = np.zeros(max_epoch)\n",
    "plot_frob = 100*frob_error_series/Y_frob\n",
    "plot_X_entries = 100*X_entries/X_sparsity\n",
    "plot_epoch = 8\n",
    "\n",
    "plt.figure(1)\n",
    "plt.figure(figsize=(15,20))\n",
    "plt.subplot(3,3,1)\n",
    "plt.plot(np.arange(max_epoch)+1, plot_frob, 'g-', label=\"k/n=%s %%\"%(int(round(100*k/n, 0))))\n",
    "plt.title('EBR - Frobenius norm of residual')\n",
    "plt.grid(True)\n",
    "plt.xlabel('Epochs')\n",
    "plt.ylabel('Frobenius norm (%)')\n",
    "plt.xlim(1,plot_epoch)\n",
    "plt.legend()\n",
    "plt.subplot(3,3,2)\n",
    "plt.plot(np.arange(max_epoch)+1, plot_A_entries, 'g-', label=\"A, k/n=%s %%\"%(int(round(100*k/n, 0))))\n",
    "plt.grid(True)\n",
    "plt.title('EBR - percentage of entries of A recovered')\n",
    "plt.xlabel('Epochs')\n",
    "plt.ylabel('Entries of A recovered (%)')\n",
    "plt.xlim(1,plot_epoch)\n",
    "plt.subplot(3,3,3)\n",
    "plt.plot(np.arange(max_epoch)+1, plot_X_entries, 'g-', label=\"A, k/n=%s %%\"%(int(round(100*k/n, 0))))\n",
    "plt.grid(True)\n",
    "plt.title('EBR - percentage of entries of X recovered')\n",
    "plt.xlabel('Epochs')\n",
    "plt.ylabel('Entries of X recovered (%)')\n",
    "plt.xlim(1,plot_epoch)\n",
    "plt.legend()\n",
    "# plt.savefig('./figures_ACHA/varying_k_EBR.eps', format='eps', bbox_inches='tight')"
   ]
  },
  {
   "cell_type": "code",
   "execution_count": 25,
   "metadata": {},
   "outputs": [
    {
     "name": "stdout",
     "output_type": "stream",
     "text": [
      "Epoch  0  processed, l_2 error =  46.01 %, A l_0 error = 0.00 %, X l_0 error = 41.45 %.\n"
     ]
    }
   ],
   "source": [
    "alpha = 3\n",
    "max_epoch=1\n",
    "\n",
    "[A_rec, X_rec, frob_error_series, total_entries, A_entries, X_entries, comp_time] = EBR(Y,N,m,n,d,k,eps,max_epoch,A_sparsity,X_sparsity,Y_frob)\n"
   ]
  },
  {
   "cell_type": "markdown",
   "metadata": {},
   "source": [
    "# Experiments supporting Lemma 6 and Remark 1"
   ]
  },
  {
   "cell_type": "code",
   "execution_count": 4,
   "metadata": {},
   "outputs": [
    {
     "ename": "KeyboardInterrupt",
     "evalue": "",
     "output_type": "error",
     "traceback": [
      "\u001b[0;31m---------------------------------------------------------------------------\u001b[0m",
      "\u001b[0;31mKeyboardInterrupt\u001b[0m                         Traceback (most recent call last)",
      "\u001b[0;32m<ipython-input-4-244c73d75254>\u001b[0m in \u001b[0;36m<module>\u001b[0;34m()\u001b[0m\n\u001b[1;32m     27\u001b[0m                 \u001b[0;32mfor\u001b[0m \u001b[0mr\u001b[0m \u001b[0;32min\u001b[0m \u001b[0mrange\u001b[0m\u001b[0;34m(\u001b[0m\u001b[0mk\u001b[0m\u001b[0;34m)\u001b[0m\u001b[0;34m:\u001b[0m\u001b[0;34m\u001b[0m\u001b[0m\n\u001b[1;32m     28\u001b[0m                     \u001b[0mseen\u001b[0m\u001b[0;34m[\u001b[0m\u001b[0mdraw\u001b[0m\u001b[0;34m[\u001b[0m\u001b[0mr\u001b[0m\u001b[0;34m]\u001b[0m\u001b[0;34m]\u001b[0m \u001b[0;34m=\u001b[0m \u001b[0;36m1\u001b[0m\u001b[0;34m\u001b[0m\u001b[0m\n\u001b[0;32m---> 29\u001b[0;31m                 \u001b[0;32mif\u001b[0m \u001b[0msum\u001b[0m\u001b[0;34m(\u001b[0m\u001b[0mseen\u001b[0m\u001b[0;34m)\u001b[0m \u001b[0;34m==\u001b[0m \u001b[0mn\u001b[0m\u001b[0;34m[\u001b[0m\u001b[0mi\u001b[0m\u001b[0;34m]\u001b[0m\u001b[0;34m:\u001b[0m\u001b[0;34m\u001b[0m\u001b[0m\n\u001b[0m\u001b[1;32m     30\u001b[0m                     \u001b[0mdone\u001b[0m \u001b[0;34m=\u001b[0m \u001b[0;32mTrue\u001b[0m\u001b[0;34m\u001b[0m\u001b[0m\n\u001b[1;32m     31\u001b[0m                     \u001b[0mexp_av\u001b[0m\u001b[0;34m[\u001b[0m\u001b[0mj\u001b[0m\u001b[0;34m,\u001b[0m \u001b[0mi\u001b[0m\u001b[0;34m]\u001b[0m \u001b[0;34m+=\u001b[0m \u001b[0miters\u001b[0m\u001b[0;34m\u001b[0m\u001b[0m\n",
      "\u001b[0;31mKeyboardInterrupt\u001b[0m: "
     ]
    }
   ],
   "source": [
    "max_iter = 2000\n",
    "num_trials = 400\n",
    "n = np.arange(200, 1050, 50)\n",
    "alpha = [0.1, 0.2, 0.6]\n",
    "\n",
    "theoretical_average = np.zeros((len(alpha)+1, len(n)))\n",
    "\n",
    "theoretical_average[0] = n*np.log(n)\n",
    "for i in range(len(alpha)):\n",
    "    theoretical_average[i+1] = (1/alpha[i])*np.log(n)\n",
    "    \n",
    "exp_av = np.zeros((len(alpha), len(n)))\n",
    "\n",
    "# Iterate through each problem size n    \n",
    "for i in range(len(n)):\n",
    "    # Iterate through each value of k\n",
    "    for j in range(len(alpha)):\n",
    "        k = int(np.around(alpha[j]*n[i]))\n",
    "        # Iterate through the number of trials we conduct for problem, i.e. fixed k and n\n",
    "        for l in range(num_trials):\n",
    "            # A single trial is concluded when all objects have been seen\n",
    "            seen = np.zeros(n[i])\n",
    "            iters = 0\n",
    "            done = False\n",
    "            while done == False and iters <= max_iter:\n",
    "                draw = np.random.choice(n[i], k, replace=False)\n",
    "                for r in range(k):\n",
    "                    seen[draw[r]] = 1         \n",
    "                if sum(seen) == n[i]:\n",
    "                    done = True\n",
    "                    exp_av[j, i] += iters\n",
    "                else:\n",
    "                    iters +=1\n",
    "exp_av = exp_av/num_trials\n",
    "    "
   ]
  },
  {
   "cell_type": "code",
   "execution_count": 24,
   "metadata": {},
   "outputs": [
    {
     "ename": "ValueError",
     "evalue": "x and y must have same first dimension, but have shapes (1,) and (17,)",
     "output_type": "error",
     "traceback": [
      "\u001b[0;31m---------------------------------------------------------------------------\u001b[0m",
      "\u001b[0;31mValueError\u001b[0m                                Traceback (most recent call last)",
      "\u001b[0;32m<ipython-input-24-998499248d4a>\u001b[0m in \u001b[0;36m<module>\u001b[0;34m()\u001b[0m\n\u001b[1;32m      2\u001b[0m \u001b[0mplt\u001b[0m\u001b[0;34m.\u001b[0m\u001b[0mfigure\u001b[0m\u001b[0;34m(\u001b[0m\u001b[0mfigsize\u001b[0m\u001b[0;34m=\u001b[0m\u001b[0;34m(\u001b[0m\u001b[0;36m20\u001b[0m\u001b[0;34m,\u001b[0m\u001b[0;36m10\u001b[0m\u001b[0;34m)\u001b[0m\u001b[0;34m)\u001b[0m\u001b[0;34m\u001b[0m\u001b[0m\n\u001b[1;32m      3\u001b[0m \u001b[0;31m# plt.plot(n, theoretical_average[0], 'k-', label=\"k=1\")\u001b[0m\u001b[0;34m\u001b[0m\u001b[0;34m\u001b[0m\u001b[0m\n\u001b[0;32m----> 4\u001b[0;31m \u001b[0mplt\u001b[0m\u001b[0;34m.\u001b[0m\u001b[0mplot\u001b[0m\u001b[0;34m(\u001b[0m\u001b[0mn\u001b[0m\u001b[0;34m,\u001b[0m \u001b[0mtheoretical_average\u001b[0m\u001b[0;34m[\u001b[0m\u001b[0;36m1\u001b[0m\u001b[0;34m]\u001b[0m\u001b[0;34m,\u001b[0m \u001b[0;34m'g-'\u001b[0m\u001b[0;34m,\u001b[0m \u001b[0mlabel\u001b[0m\u001b[0;34m=\u001b[0m\u001b[0;34m\"Conjectured, k/n=%s\"\u001b[0m\u001b[0;34m%\u001b[0m\u001b[0;34m(\u001b[0m\u001b[0malpha\u001b[0m\u001b[0;34m[\u001b[0m\u001b[0;36m0\u001b[0m\u001b[0;34m]\u001b[0m\u001b[0;34m)\u001b[0m\u001b[0;34m)\u001b[0m\u001b[0;34m\u001b[0m\u001b[0m\n\u001b[0m\u001b[1;32m      5\u001b[0m \u001b[0mplt\u001b[0m\u001b[0;34m.\u001b[0m\u001b[0mplot\u001b[0m\u001b[0;34m(\u001b[0m\u001b[0mn\u001b[0m\u001b[0;34m,\u001b[0m \u001b[0mexp_av\u001b[0m\u001b[0;34m[\u001b[0m\u001b[0;36m0\u001b[0m\u001b[0;34m]\u001b[0m\u001b[0;34m,\u001b[0m \u001b[0;34m'g--'\u001b[0m\u001b[0;34m,\u001b[0m \u001b[0mlabel\u001b[0m\u001b[0;34m=\u001b[0m\u001b[0;34m\"Experimental, k/n=%s\"\u001b[0m\u001b[0;34m%\u001b[0m\u001b[0;34m(\u001b[0m\u001b[0malpha\u001b[0m\u001b[0;34m[\u001b[0m\u001b[0;36m0\u001b[0m\u001b[0;34m]\u001b[0m\u001b[0;34m)\u001b[0m\u001b[0;34m)\u001b[0m\u001b[0;34m\u001b[0m\u001b[0m\n\u001b[1;32m      6\u001b[0m \u001b[0mplt\u001b[0m\u001b[0;34m.\u001b[0m\u001b[0mplot\u001b[0m\u001b[0;34m(\u001b[0m\u001b[0mn\u001b[0m\u001b[0;34m,\u001b[0m \u001b[0mtheoretical_average\u001b[0m\u001b[0;34m[\u001b[0m\u001b[0;36m2\u001b[0m\u001b[0;34m]\u001b[0m\u001b[0;34m,\u001b[0m \u001b[0;34m'b-'\u001b[0m\u001b[0;34m,\u001b[0m \u001b[0mlabel\u001b[0m\u001b[0;34m=\u001b[0m\u001b[0;34m\"Conjectured, k/n=%s\"\u001b[0m\u001b[0;34m%\u001b[0m\u001b[0;34m(\u001b[0m\u001b[0malpha\u001b[0m\u001b[0;34m[\u001b[0m\u001b[0;36m1\u001b[0m\u001b[0;34m]\u001b[0m\u001b[0;34m)\u001b[0m\u001b[0;34m)\u001b[0m\u001b[0;34m\u001b[0m\u001b[0m\n",
      "\u001b[0;32m~/anaconda3/envs/pytorch-env/lib/python3.6/site-packages/matplotlib/pyplot.py\u001b[0m in \u001b[0;36mplot\u001b[0;34m(*args, **kwargs)\u001b[0m\n\u001b[1;32m   3238\u001b[0m                       mplDeprecation)\n\u001b[1;32m   3239\u001b[0m     \u001b[0;32mtry\u001b[0m\u001b[0;34m:\u001b[0m\u001b[0;34m\u001b[0m\u001b[0m\n\u001b[0;32m-> 3240\u001b[0;31m         \u001b[0mret\u001b[0m \u001b[0;34m=\u001b[0m \u001b[0max\u001b[0m\u001b[0;34m.\u001b[0m\u001b[0mplot\u001b[0m\u001b[0;34m(\u001b[0m\u001b[0;34m*\u001b[0m\u001b[0margs\u001b[0m\u001b[0;34m,\u001b[0m \u001b[0;34m**\u001b[0m\u001b[0mkwargs\u001b[0m\u001b[0;34m)\u001b[0m\u001b[0;34m\u001b[0m\u001b[0m\n\u001b[0m\u001b[1;32m   3241\u001b[0m     \u001b[0;32mfinally\u001b[0m\u001b[0;34m:\u001b[0m\u001b[0;34m\u001b[0m\u001b[0m\n\u001b[1;32m   3242\u001b[0m         \u001b[0max\u001b[0m\u001b[0;34m.\u001b[0m\u001b[0m_hold\u001b[0m \u001b[0;34m=\u001b[0m \u001b[0mwashold\u001b[0m\u001b[0;34m\u001b[0m\u001b[0m\n",
      "\u001b[0;32m~/anaconda3/envs/pytorch-env/lib/python3.6/site-packages/matplotlib/__init__.py\u001b[0m in \u001b[0;36minner\u001b[0;34m(ax, *args, **kwargs)\u001b[0m\n\u001b[1;32m   1708\u001b[0m                     warnings.warn(msg % (label_namer, func.__name__),\n\u001b[1;32m   1709\u001b[0m                                   RuntimeWarning, stacklevel=2)\n\u001b[0;32m-> 1710\u001b[0;31m             \u001b[0;32mreturn\u001b[0m \u001b[0mfunc\u001b[0m\u001b[0;34m(\u001b[0m\u001b[0max\u001b[0m\u001b[0;34m,\u001b[0m \u001b[0;34m*\u001b[0m\u001b[0margs\u001b[0m\u001b[0;34m,\u001b[0m \u001b[0;34m**\u001b[0m\u001b[0mkwargs\u001b[0m\u001b[0;34m)\u001b[0m\u001b[0;34m\u001b[0m\u001b[0m\n\u001b[0m\u001b[1;32m   1711\u001b[0m         \u001b[0mpre_doc\u001b[0m \u001b[0;34m=\u001b[0m \u001b[0minner\u001b[0m\u001b[0;34m.\u001b[0m\u001b[0m__doc__\u001b[0m\u001b[0;34m\u001b[0m\u001b[0m\n\u001b[1;32m   1712\u001b[0m         \u001b[0;32mif\u001b[0m \u001b[0mpre_doc\u001b[0m \u001b[0;32mis\u001b[0m \u001b[0;32mNone\u001b[0m\u001b[0;34m:\u001b[0m\u001b[0;34m\u001b[0m\u001b[0m\n",
      "\u001b[0;32m~/anaconda3/envs/pytorch-env/lib/python3.6/site-packages/matplotlib/axes/_axes.py\u001b[0m in \u001b[0;36mplot\u001b[0;34m(self, *args, **kwargs)\u001b[0m\n\u001b[1;32m   1435\u001b[0m         \u001b[0mkwargs\u001b[0m \u001b[0;34m=\u001b[0m \u001b[0mcbook\u001b[0m\u001b[0;34m.\u001b[0m\u001b[0mnormalize_kwargs\u001b[0m\u001b[0;34m(\u001b[0m\u001b[0mkwargs\u001b[0m\u001b[0;34m,\u001b[0m \u001b[0m_alias_map\u001b[0m\u001b[0;34m)\u001b[0m\u001b[0;34m\u001b[0m\u001b[0m\n\u001b[1;32m   1436\u001b[0m \u001b[0;34m\u001b[0m\u001b[0m\n\u001b[0;32m-> 1437\u001b[0;31m         \u001b[0;32mfor\u001b[0m \u001b[0mline\u001b[0m \u001b[0;32min\u001b[0m \u001b[0mself\u001b[0m\u001b[0;34m.\u001b[0m\u001b[0m_get_lines\u001b[0m\u001b[0;34m(\u001b[0m\u001b[0;34m*\u001b[0m\u001b[0margs\u001b[0m\u001b[0;34m,\u001b[0m \u001b[0;34m**\u001b[0m\u001b[0mkwargs\u001b[0m\u001b[0;34m)\u001b[0m\u001b[0;34m:\u001b[0m\u001b[0;34m\u001b[0m\u001b[0m\n\u001b[0m\u001b[1;32m   1438\u001b[0m             \u001b[0mself\u001b[0m\u001b[0;34m.\u001b[0m\u001b[0madd_line\u001b[0m\u001b[0;34m(\u001b[0m\u001b[0mline\u001b[0m\u001b[0;34m)\u001b[0m\u001b[0;34m\u001b[0m\u001b[0m\n\u001b[1;32m   1439\u001b[0m             \u001b[0mlines\u001b[0m\u001b[0;34m.\u001b[0m\u001b[0mappend\u001b[0m\u001b[0;34m(\u001b[0m\u001b[0mline\u001b[0m\u001b[0;34m)\u001b[0m\u001b[0;34m\u001b[0m\u001b[0m\n",
      "\u001b[0;32m~/anaconda3/envs/pytorch-env/lib/python3.6/site-packages/matplotlib/axes/_base.py\u001b[0m in \u001b[0;36m_grab_next_args\u001b[0;34m(self, *args, **kwargs)\u001b[0m\n\u001b[1;32m    402\u001b[0m                 \u001b[0mthis\u001b[0m \u001b[0;34m+=\u001b[0m \u001b[0margs\u001b[0m\u001b[0;34m[\u001b[0m\u001b[0;36m0\u001b[0m\u001b[0;34m]\u001b[0m\u001b[0;34m,\u001b[0m\u001b[0;34m\u001b[0m\u001b[0m\n\u001b[1;32m    403\u001b[0m                 \u001b[0margs\u001b[0m \u001b[0;34m=\u001b[0m \u001b[0margs\u001b[0m\u001b[0;34m[\u001b[0m\u001b[0;36m1\u001b[0m\u001b[0;34m:\u001b[0m\u001b[0;34m]\u001b[0m\u001b[0;34m\u001b[0m\u001b[0m\n\u001b[0;32m--> 404\u001b[0;31m             \u001b[0;32mfor\u001b[0m \u001b[0mseg\u001b[0m \u001b[0;32min\u001b[0m \u001b[0mself\u001b[0m\u001b[0;34m.\u001b[0m\u001b[0m_plot_args\u001b[0m\u001b[0;34m(\u001b[0m\u001b[0mthis\u001b[0m\u001b[0;34m,\u001b[0m \u001b[0mkwargs\u001b[0m\u001b[0;34m)\u001b[0m\u001b[0;34m:\u001b[0m\u001b[0;34m\u001b[0m\u001b[0m\n\u001b[0m\u001b[1;32m    405\u001b[0m                 \u001b[0;32myield\u001b[0m \u001b[0mseg\u001b[0m\u001b[0;34m\u001b[0m\u001b[0m\n\u001b[1;32m    406\u001b[0m \u001b[0;34m\u001b[0m\u001b[0m\n",
      "\u001b[0;32m~/anaconda3/envs/pytorch-env/lib/python3.6/site-packages/matplotlib/axes/_base.py\u001b[0m in \u001b[0;36m_plot_args\u001b[0;34m(self, tup, kwargs)\u001b[0m\n\u001b[1;32m    382\u001b[0m             \u001b[0mx\u001b[0m\u001b[0;34m,\u001b[0m \u001b[0my\u001b[0m \u001b[0;34m=\u001b[0m \u001b[0mindex_of\u001b[0m\u001b[0;34m(\u001b[0m\u001b[0mtup\u001b[0m\u001b[0;34m[\u001b[0m\u001b[0;34m-\u001b[0m\u001b[0;36m1\u001b[0m\u001b[0;34m]\u001b[0m\u001b[0;34m)\u001b[0m\u001b[0;34m\u001b[0m\u001b[0m\n\u001b[1;32m    383\u001b[0m \u001b[0;34m\u001b[0m\u001b[0m\n\u001b[0;32m--> 384\u001b[0;31m         \u001b[0mx\u001b[0m\u001b[0;34m,\u001b[0m \u001b[0my\u001b[0m \u001b[0;34m=\u001b[0m \u001b[0mself\u001b[0m\u001b[0;34m.\u001b[0m\u001b[0m_xy_from_xy\u001b[0m\u001b[0;34m(\u001b[0m\u001b[0mx\u001b[0m\u001b[0;34m,\u001b[0m \u001b[0my\u001b[0m\u001b[0;34m)\u001b[0m\u001b[0;34m\u001b[0m\u001b[0m\n\u001b[0m\u001b[1;32m    385\u001b[0m \u001b[0;34m\u001b[0m\u001b[0m\n\u001b[1;32m    386\u001b[0m         \u001b[0;32mif\u001b[0m \u001b[0mself\u001b[0m\u001b[0;34m.\u001b[0m\u001b[0mcommand\u001b[0m \u001b[0;34m==\u001b[0m \u001b[0;34m'plot'\u001b[0m\u001b[0;34m:\u001b[0m\u001b[0;34m\u001b[0m\u001b[0m\n",
      "\u001b[0;32m~/anaconda3/envs/pytorch-env/lib/python3.6/site-packages/matplotlib/axes/_base.py\u001b[0m in \u001b[0;36m_xy_from_xy\u001b[0;34m(self, x, y)\u001b[0m\n\u001b[1;32m    241\u001b[0m         \u001b[0;32mif\u001b[0m \u001b[0mx\u001b[0m\u001b[0;34m.\u001b[0m\u001b[0mshape\u001b[0m\u001b[0;34m[\u001b[0m\u001b[0;36m0\u001b[0m\u001b[0;34m]\u001b[0m \u001b[0;34m!=\u001b[0m \u001b[0my\u001b[0m\u001b[0;34m.\u001b[0m\u001b[0mshape\u001b[0m\u001b[0;34m[\u001b[0m\u001b[0;36m0\u001b[0m\u001b[0;34m]\u001b[0m\u001b[0;34m:\u001b[0m\u001b[0;34m\u001b[0m\u001b[0m\n\u001b[1;32m    242\u001b[0m             raise ValueError(\"x and y must have same first dimension, but \"\n\u001b[0;32m--> 243\u001b[0;31m                              \"have shapes {} and {}\".format(x.shape, y.shape))\n\u001b[0m\u001b[1;32m    244\u001b[0m         \u001b[0;32mif\u001b[0m \u001b[0mx\u001b[0m\u001b[0;34m.\u001b[0m\u001b[0mndim\u001b[0m \u001b[0;34m>\u001b[0m \u001b[0;36m2\u001b[0m \u001b[0;32mor\u001b[0m \u001b[0my\u001b[0m\u001b[0;34m.\u001b[0m\u001b[0mndim\u001b[0m \u001b[0;34m>\u001b[0m \u001b[0;36m2\u001b[0m\u001b[0;34m:\u001b[0m\u001b[0;34m\u001b[0m\u001b[0m\n\u001b[1;32m    245\u001b[0m             raise ValueError(\"x and y can be no greater than 2-D, but have \"\n",
      "\u001b[0;31mValueError\u001b[0m: x and y must have same first dimension, but have shapes (1,) and (17,)"
     ]
    },
    {
     "data": {
      "text/plain": [
       "<matplotlib.figure.Figure at 0x117a10780>"
      ]
     },
     "metadata": {},
     "output_type": "display_data"
    },
    {
     "data": {
      "image/png": "[encoded data removed]",
      "text/plain": [
       "<matplotlib.figure.Figure at 0x117a10748>"
      ]
     },
     "metadata": {},
     "output_type": "display_data"
    }
   ],
   "source": [
    "plt.figure(1)\n",
    "plt.figure(figsize=(20,10))\n",
    "# plt.plot(n, theoretical_average[0], 'k-', label=\"k=1\")\n",
    "plt.plot(n, theoretical_average[1], 'g-', label=\"Conjectured, k/n=%s\"%(alpha[0]))\n",
    "plt.plot(n, exp_av[0], 'g--', label=\"Experimental, k/n=%s\"%(alpha[0]))\n",
    "plt.plot(n, theoretical_average[2], 'b-', label=\"Conjectured, k/n=%s\"%(alpha[1]))\n",
    "plt.plot(n, exp_av[1], 'b--', label=\"Experimental, k/n=%s\"%(alpha[1]))\n",
    "plt.plot(n, theoretical_average[3], 'r-', label=\"Conjectured, k/n=%s\"%(alpha[2]))\n",
    "plt.plot(n, exp_av[2], 'r--', label=\"Experimental, k/n=%s\"%(alpha[2]))\n",
    "plt.grid(True)\n",
    "plt.title('Expected number of draws to get 1 non-zero per column of X')\n",
    "plt.xlabel('n')\n",
    "plt.ylabel('Average N')\n",
    "plt.legend()\n",
    "plt.savefig('./figures_ACHA/sample_comp.eps', format='eps', bbox_inches='tight')"
   ]
  },
  {
   "cell_type": "markdown",
   "metadata": {},
   "source": [
    "# Experiments analyzing performance of EBR\n",
    "\n",
    "## Experiment 1 - recovery varying $k/n$"
   ]
  },
  {
   "cell_type": "markdown",
   "metadata": {},
   "source": [
    "#### Generating a valid dictionary and data"
   ]
  },
  {
   "cell_type": "code",
   "execution_count": 11,
   "metadata": {
    "scrolled": true
   },
   "outputs": [
    {
     "name": "stdout",
     "output_type": "stream",
     "text": [
      "Generation error, A is not expander for this value of epsilon, mu_A =  4.00 , tau =  3.33 .\n",
      "Generation error, A is not expander for this value of epsilon, mu_A =  4.00 , tau =  3.33 .\n",
      "A passes coherence test, mu_A =  3.00 , tau =  3.33 .\n",
      "Generated dictionary that passes the coherency test\n",
      "(1400, 1500)\n",
      "15000.0\n",
      "10.0\n",
      "11.0\n",
      "10.7142857143\n",
      "10.714285714285714\n"
     ]
    },
    {
     "data": {
      "image/png": "[encoded data removed]",
      "text/plain": [
       "<matplotlib.figure.Figure at 0x10c248390>"
      ]
     },
     "metadata": {},
     "output_type": "display_data"
    }
   ],
   "source": [
    "# Dictionary parameters parameters\n",
    "n = 1500; #800\n",
    "beta = 14/15\n",
    "\n",
    "m = int(np.ceil(n*beta));\n",
    "d = 10; # 9\n",
    "eps = 1/6;\n",
    "N = 750\n",
    "\n",
    "\n",
    "# Generate a dictionary and check that passes necessary test.\n",
    "num_generations = 0\n",
    "passed = False\n",
    "while passed==False and num_generations < 100:\n",
    "    A = generate_exp_dictionary2(m,n,d);\n",
    "    passed = check_dictionary(eps,n,d,A)\n",
    "    num_generations += 1\n",
    "if passed == True:\n",
    "    print(\"Generated dictionary that passes the coherency test\")\n",
    "else:\n",
    "    print(\"Failed to generate dictionary that passes the coherency test, consider different parameters\")\n",
    "    \n",
    "# Analyze characteristics of dictionary\n",
    "row_count = np.sum(A, 1)\n",
    "print(A.shape)\n",
    "print(sum(sum(A)))\n",
    "print(min(row_count))\n",
    "print(max(row_count))\n",
    "print(np.mean(row_count))\n",
    "print(n*d/m)\n",
    "\n",
    "num_bins = int(max(row_count) - min(row_count))\n",
    "freq, bins, patches = plt.hist(row_count, bins=num_bins, color='#0504aa',\n",
    "                            alpha=0.7, rwidth=0.85)\n",
    "plt.grid(axis='y', alpha=0.75)\n",
    "plt.xlabel('Number of non-zeros')\n",
    "plt.ylabel('Frequency')\n",
    "plt.title('Row density of A with n=%s'%(n))\n",
    "maxfreq = freq.max()"
   ]
  },
  {
   "cell_type": "markdown",
   "metadata": {},
   "source": [
    "#### Generate data using dictionary"
   ]
  },
  {
   "cell_type": "code",
   "execution_count": 17,
   "metadata": {
    "collapsed": true
   },
   "outputs": [],
   "source": [
    "##### GENERATE LATENT REPRESENTATION\n",
    "b1=1;\n",
    "b2=5;\n",
    "k = [int(np.ceil(0.01*n)), int(np.ceil(0.04*n)), int(np.ceil(0.07*n)), int(np.ceil(0.1*n))]\n",
    "X = np.zeros((len(k), n, N))\n",
    "Y = np.zeros((len(k), m, N))\n",
    "for j in range(len(k)):\n",
    "    for i in range(N):\n",
    "        X[j,:,i] = generate_latent(n,k[j],b1,b2)\n",
    "    Y[j] = A@X[j]"
   ]
  },
  {
   "cell_type": "markdown",
   "metadata": {},
   "source": [
    "#### Run EBR to recover A and X varying $k/n$"
   ]
  },
  {
   "cell_type": "code",
   "execution_count": 18,
   "metadata": {},
   "outputs": [
    {
     "name": "stdout",
     "output_type": "stream",
     "text": [
      "Solving problem with k/n =  1.0 %, N =  750\n",
      "Epoch  0  processed, l_2 error =  6.32 %, A l_0 error = 0.02 %, X l_0 error = 0.88 %.\n",
      "Epoch  1  processed, l_2 error =  1.27 %, A l_0 error = 0.01 %, X l_0 error = 0.47 %.\n",
      "Epoch  2  processed, l_2 error =  0.00 %, A l_0 error = 0.01 %, X l_0 error = 0.46 %.\n",
      "No partial supports recovered, terminating algorithm\n",
      "\n",
      "Checking reconstruction of A.\n",
      "99.9 % of columns fully formed.\n",
      "0.1 % of columns partially formed.\n",
      "0.0 % of columns have no entries.\n",
      "100.0 % of reconstructed (fully or partially) columns match with a column in target matrix.\n",
      "0 % of entries missing in total.\n",
      "1 entries missing in matched columns.\n",
      "0 entries wrong in matched columns.\n",
      "\n",
      "Checking the values of X recovered.\n",
      "99.5 % of entries correctly recovered.\n",
      "0.0 % of entries in correct location but have wrong value for location.\n",
      "0.5 % of entries missing.\n",
      "\n",
      "Solving problem with k/n =  4.0 %, N =  750\n",
      "Epoch  0  processed, l_2 error =  45.75 %, A l_0 error = 0.00 %, X l_0 error = 41.85 %.\n",
      "Epoch  1  processed, l_2 error =  24.82 %, A l_0 error = 0.00 %, X l_0 error = 27.84 %.\n",
      "Epoch  2  processed, l_2 error =  16.69 %, A l_0 error = 0.00 %, X l_0 error = 24.28 %.\n",
      "Epoch  3  processed, l_2 error =  13.69 %, A l_0 error = 0.00 %, X l_0 error = 23.25 %.\n",
      "Epoch  4  processed, l_2 error =  12.59 %, A l_0 error = 0.00 %, X l_0 error = 22.93 %.\n",
      "\n",
      "Checking reconstruction of A.\n",
      "100.0 % of columns fully formed.\n",
      "0.0 % of columns partially formed.\n",
      "0.0 % of columns have no entries.\n",
      "100.0 % of reconstructed (fully or partially) columns match with a column in target matrix.\n",
      "0 % of entries missing in total.\n",
      "0 entries missing in matched columns.\n",
      "0 entries wrong in matched columns.\n",
      "\n",
      "Checking the values of X recovered.\n",
      "77.1 % of entries correctly recovered.\n",
      "0.0 % of entries in correct location but have wrong value for location.\n",
      "22.9 % of entries missing.\n",
      "\n",
      "Solving problem with k/n =  7.1 %, N =  750\n",
      "Epoch  0  processed, l_2 error =  64.86 %, A l_0 error = 0.18 %, X l_0 error = 83.92 %.\n",
      "Epoch  1  processed, l_2 error =  62.47 %, A l_0 error = 0.07 %, X l_0 error = 81.25 %.\n",
      "Epoch  2  processed, l_2 error =  61.93 %, A l_0 error = 0.07 %, X l_0 error = 80.64 %.\n",
      "Epoch  3  processed, l_2 error =  61.80 %, A l_0 error = 0.07 %, X l_0 error = 80.49 %.\n",
      "Epoch  4  processed, l_2 error =  61.76 %, A l_0 error = 0.07 %, X l_0 error = 80.46 %.\n",
      "\n",
      "Checking reconstruction of A.\n",
      "99.5 % of columns fully formed.\n",
      "0.5 % of columns partially formed.\n",
      "0.0 % of columns have no entries.\n",
      "100.0 % of reconstructed (fully or partially) columns match with a column in target matrix.\n",
      "0 % of entries missing in total.\n",
      "10 entries missing in matched columns.\n",
      "0 entries wrong in matched columns.\n",
      "\n",
      "Checking the values of X recovered.\n",
      "19.5 % of entries correctly recovered.\n",
      "0.0 % of entries in correct location but have wrong value for location.\n",
      "80.5 % of entries missing.\n",
      "\n",
      "Solving problem with k/n =  10.0 %, N =  750\n",
      "Epoch  0  processed, l_2 error =  69.61 %, A l_0 error = 18.84 %, X l_0 error = 96.89 %.\n",
      "Epoch  1  processed, l_2 error =  69.53 %, A l_0 error = 17.73 %, X l_0 error = 96.78 %.\n",
      "Epoch  2  processed, l_2 error =  69.53 %, A l_0 error = 17.73 %, X l_0 error = 96.78 %.\n",
      "Epoch  3  processed, l_2 error =  69.53 %, A l_0 error = 17.68 %, X l_0 error = 96.78 %.\n",
      "No partial supports recovered, terminating algorithm\n",
      "\n",
      "Checking reconstruction of A.\n",
      "48.1 % of columns fully formed.\n",
      "43.2 % of columns partially formed.\n",
      "8.7 % of columns have no entries.\n",
      "100.0 % of reconstructed (fully or partially) columns match with a column in target matrix.\n",
      "18 % of entries missing in total.\n",
      "1342 entries missing in matched columns.\n",
      "0 entries wrong in matched columns.\n",
      "\n",
      "Checking the values of X recovered.\n",
      "3.2 % of entries correctly recovered.\n",
      "0.0 % of entries in correct location but have wrong value for location.\n",
      "96.8 % of entries missing.\n",
      "\n"
     ]
    }
   ],
   "source": [
    "if passed == True:\n",
    "    eps = 1/6;\n",
    "    max_epoch = 5\n",
    "    tol = 10**-8\n",
    "    X_sparsity = np.zeros(len(k))\n",
    "    Y_frob = np.zeros(len(k))\n",
    "    comp_time = np.zeros(len(k))\n",
    "    number_k_to_process = len(k)\n",
    "    A_sparsity = np.count_nonzero(A)\n",
    "    A_rec = np.zeros((len(k),m,n))\n",
    "    X_rec = np.zeros((len(k),n,N))\n",
    "    frob_error_series = np.ones((len(k), max_epoch))\n",
    "    A_entries = np.zeros((len(k), max_epoch))\n",
    "    X_entries = np.zeros((len(k), max_epoch))\n",
    "    total_entries = np.zeros((len(k), max_epoch))\n",
    "    for j in range(number_k_to_process):\n",
    "        print(\"Solving problem with k/n = \", str.format('{0:.1f}', 100*k[j]/n), '%, N = ', str.format('{0:.0f}', N))\n",
    "        X_sparsity[j] = k[j]*N\n",
    "        Y_frob[j] = np.sqrt(sum(sum(Y[j]**2)))\n",
    "        [A_rec[j], X_rec[j], frob_error_series[j], total_entries[j], A_entries[j], X_entries[j], comp_time[j]] = EBR(Y[j],N,m,n,d,k[j],eps,max_epoch,A_sparsity,X_sparsity[j],Y_frob[j])\n",
    "        print(\"\")\n",
    "        P = check_recon_A(A, A_rec[j],d,eps,n)\n",
    "        print(\"\")\n",
    "        check_recon_X(X[j],X_rec[j],P,N,k[j],n)\n",
    "        print(\"\")"
   ]
  },
  {
   "cell_type": "code",
   "execution_count": 22,
   "metadata": {},
   "outputs": [
    {
     "name": "stdout",
     "output_type": "stream",
     "text": [
      "Running times:\n",
      "k/n=1.0 %, 87.031885396 s\n",
      "k/n=4.0 %, 431.583158224 s\n",
      "k/n=7.066666666666666 %, 757.686514648 s\n"
     ]
    },
    {
     "data": {
      "text/plain": [
       "<matplotlib.figure.Figure at 0x10e43ecf8>"
      ]
     },
     "metadata": {},
     "output_type": "display_data"
    },
    {
     "data": {
      "image/png": "[encoded data removed]",
      "text/plain": [
       "<matplotlib.figure.Figure at 0x10e43eef0>"
      ]
     },
     "metadata": {},
     "output_type": "display_data"
    }
   ],
   "source": [
    "plt.figure(1).clear()\n",
    "\n",
    "plot_A_entries = 100*A_entries/A_sparsity\n",
    "\n",
    "plot_X_entries = np.zeros((len(k), max_epoch))\n",
    "plot_frob = np.zeros((len(k), max_epoch))\n",
    "\n",
    "for j in range(number_k_to_process):\n",
    "    plot_frob[j,:] = 100*frob_error_series[j,:]/np.sqrt(sum(sum(Y[j]**2)))\n",
    "    plot_X_entries[j,:] = 100*X_entries[j,:]/X_sparsity[j]\n",
    "plot_epoch = 5\n",
    "\n",
    "print(\"Running times:\")\n",
    "print(\"k/n=%s %%, %s s\"%(100*k[0]/n, comp_time[0]))\n",
    "print(\"k/n=%s %%, %s s\"%(100*k[1]/n, comp_time[1]))      \n",
    "print(\"k/n=%s %%, %s s\"%(100*k[2]/n, comp_time[2]))  \n",
    "\n",
    "plt.figure(1)\n",
    "plt.figure(figsize=(15,20))\n",
    "plt.subplot(2,2,1)\n",
    "plt.plot(np.arange(max_epoch)+1, plot_frob[0], 'g-', label=\"k/n=%s %%\"%(int(round(100*k[0]/n, 0))))\n",
    "plt.plot(np.arange(max_epoch)+1, plot_frob[1], 'b-', label=\"k/n=%s %%\"%(int(round(100*k[1]/n, 0))))\n",
    "plt.plot(np.arange(max_epoch)+1, plot_frob[2], 'r-', label=\"k/n=%s %%\"%(int(round(100*k[2]/n, 0))))\n",
    "plt.plot(np.arange(max_epoch)+1, plot_frob[3], 'k-', label=\"k/n=%s %%\"%(int(round(100*k[3]/n, 0))))\n",
    "plt.title('EBR - Frobenius norm of residual')\n",
    "plt.grid(True)\n",
    "plt.xlabel('Epochs')\n",
    "plt.ylabel('Frobenius norm (%)')\n",
    "plt.xlim(1,plot_epoch)\n",
    "plt.legend()\n",
    "plt.subplot(2,2,2)\n",
    "plt.plot(np.arange(max_epoch)+1, plot_A_entries[0], 'g-', label=\"A, k/n=%s %%\"%(int(round(100*k[0]/n, 0))))\n",
    "plt.plot(np.arange(max_epoch)+1, plot_X_entries[0], 'g--',label=\"X, k/n=%s %%\"%(int(round(100*k[0]/n, 0))))\n",
    "plt.plot(np.arange(max_epoch)+1, plot_A_entries[1], 'b-', label=\"A, k/n=%s %%\"%(int(round(100*k[1]/n, 0))))\n",
    "plt.plot(np.arange(max_epoch)+1, plot_X_entries[1], 'b--',label=\"X, k/n=%s %%\"%(int(round(100*k[1]/n, 0))))\n",
    "plt.plot(np.arange(max_epoch)+1, plot_A_entries[2], 'r-', label=\"A, k/n=%s %%\"%(int(round(100*k[2]/n, 0))))\n",
    "plt.plot(np.arange(max_epoch)+1, plot_X_entries[2], 'r--',label=\"X, k/n=%s %%\"%(int(round(100*k[2]/n, 0))))\n",
    "plt.plot(np.arange(max_epoch)+1, plot_A_entries[3], 'k-', label=\"A, k/n=%s %%\"%(int(round(100*k[3]/n, 0))))\n",
    "plt.plot(np.arange(max_epoch)+1, plot_X_entries[3], 'k--',label=\"X, k/n=%s %%\"%(int(round(100*k[3]/n, 0))))\n",
    "plt.grid(True)\n",
    "plt.title('EBR - percentage of entries of A and X recovered')\n",
    "plt.xlabel('Epochs')\n",
    "plt.ylabel('Entries of A and X recovered (%)')\n",
    "plt.xlim(1,plot_epoch)\n",
    "plt.legend()\n",
    "plt.savefig('./figures_ACHA/varying_k_EBR.eps', format='eps', bbox_inches='tight')"
   ]
  },
  {
   "cell_type": "markdown",
   "metadata": {
    "collapsed": true
   },
   "source": [
    "# Experiment 2 - recovery varying n, m and k, keeping n/k, d and N fixed"
   ]
  },
  {
   "cell_type": "code",
   "execution_count": 25,
   "metadata": {
    "collapsed": true
   },
   "outputs": [],
   "source": [
    "# PARAMETERS\n",
    "gamma =0.04\n",
    "beta = 14/15\n",
    "\n",
    "\n",
    "# Test 1\n",
    "n1 = 1000;\n",
    "m1 = int(np.ceil(beta*n1))\n",
    "k1 = int(np.ceil(gamma*n1)) \n",
    "# Test 2\n",
    "n2 = 1500;\n",
    "m2 = int(np.ceil(beta*n2))\n",
    "k2 = int(np.ceil(gamma*n2))\n",
    "# Test 2\n",
    "n3 = 2000;\n",
    "m3 = int(np.ceil(beta*n3))\n",
    "k3 = int(np.ceil(gamma*n3)) \n",
    "\n",
    "# Shared\n",
    "b1=1\n",
    "b2=5\n",
    "d = 10\n",
    "N2 = 750\n",
    "eps = 1/6;\n"
   ]
  },
  {
   "cell_type": "code",
   "execution_count": 26,
   "metadata": {},
   "outputs": [
    {
     "name": "stdout",
     "output_type": "stream",
     "text": [
      "A passes coherence test, mu_A =  3.00 , tau =  3.33 .\n",
      "Generated dictionary that passes the coherency test\n"
     ]
    }
   ],
   "source": [
    "# Generate dictionary and data for test 1\n",
    "num_generations = 0\n",
    "passed1 = False\n",
    "while passed1==False and num_generations < 100:\n",
    "    A1 = generate_exp_dictionary2(m1,n1,d);\n",
    "    passed1 = check_dictionary(eps,n1,d,A1)\n",
    "    num_generations += 1\n",
    "if passed1 == True:\n",
    "    print(\"Generated dictionary that passes the coherency test\")\n",
    "else:\n",
    "    print(\"Failed to generate dictionary that passes the coherency test, consider different parameters\")\n",
    "\n",
    "X1 = np.zeros((n1, N2))\n",
    "Y1 = np.zeros((m1, N2))\n",
    "\n",
    "for i in range(N2):\n",
    "    X1[:,i] = generate_latent(n1,k1,b1,b2)\n",
    "Y1 = A1@X1"
   ]
  },
  {
   "cell_type": "code",
   "execution_count": 27,
   "metadata": {},
   "outputs": [
    {
     "name": "stdout",
     "output_type": "stream",
     "text": [
      "A passes coherence test, mu_A =  3.00 , tau =  3.33 .\n",
      "Generated dictionary that passes the coherency test\n"
     ]
    }
   ],
   "source": [
    "## Generate dictionary and data for test 2\n",
    "num_generations = 0\n",
    "passed2 = False\n",
    "while passed2==False and num_generations < 100:\n",
    "    A2 = generate_exp_dictionary2(m2,n2,d);\n",
    "    passed2 = check_dictionary(eps,n2,d,A2)\n",
    "    num_generations += 1\n",
    "if passed2 == True:\n",
    "    print(\"Generated dictionary that passes the coherency test\")\n",
    "else:\n",
    "    print(\"Failed to generate dictionary that passes the coherency test, consider different parameters\")\n",
    "\n",
    "X2 = np.zeros((n2, N2))\n",
    "Y2 = np.zeros((m2, N2))\n",
    "\n",
    "for i in range(N2):\n",
    "    X2[:,i] = generate_latent(n2,k2,b1,b2)\n",
    "Y2= A2@X2"
   ]
  },
  {
   "cell_type": "code",
   "execution_count": 28,
   "metadata": {},
   "outputs": [
    {
     "name": "stdout",
     "output_type": "stream",
     "text": [
      "A passes coherence test, mu_A =  3.00 , tau =  3.33 .\n",
      "Generated dictionary that passes the coherency test\n"
     ]
    }
   ],
   "source": [
    "## Generate dictionary and data for test 3\n",
    "num_generations = 0\n",
    "passed3 = False\n",
    "while passed3==False and num_generations < 100:\n",
    "    A3 = generate_exp_dictionary2(m3,n3,d);\n",
    "    passed3 = check_dictionary(eps,n3,d,A3)\n",
    "    num_generations += 1\n",
    "if passed3 == True:\n",
    "    print(\"Generated dictionary that passes the coherency test\")\n",
    "else:\n",
    "    print(\"Failed to generate dictionary that passes the coherency test, consider different parameters\")\n",
    "\n",
    "X3 = np.zeros((n3, N2))\n",
    "Y3 = np.zeros((m3, N2))\n",
    "\n",
    "for i in range(N2):\n",
    "    X3[:,i] = generate_latent(n3,k3,b1,b2)\n",
    "Y3= A3@X3"
   ]
  },
  {
   "cell_type": "code",
   "execution_count": 29,
   "metadata": {},
   "outputs": [
    {
     "name": "stdout",
     "output_type": "stream",
     "text": [
      "Solving problem with k/n =  4.0 %, n =  1000 , N =  750\n",
      "Epoch  0  processed, l_2 error =  45.08 %, A l_0 error = 0.00 %, X l_0 error = 40.89 %.\n",
      "Epoch  1  processed, l_2 error =  24.45 %, A l_0 error = 0.00 %, X l_0 error = 27.33 %.\n",
      "Epoch  2  processed, l_2 error =  16.88 %, A l_0 error = 0.00 %, X l_0 error = 24.10 %.\n",
      "Epoch  3  processed, l_2 error =  14.62 %, A l_0 error = 0.00 %, X l_0 error = 23.34 %.\n",
      "Epoch  4  processed, l_2 error =  13.79 %, A l_0 error = 0.00 %, X l_0 error = 23.10 %.\n",
      "\n",
      "Checking reconstruction of A.\n",
      "100.0 % of columns fully formed.\n",
      "0.0 % of columns partially formed.\n",
      "0.0 % of columns have no entries.\n",
      "100.0 % of reconstructed (fully or partially) columns match with a column in target matrix.\n",
      "0 % of entries missing in total.\n",
      "0 entries missing in matched columns.\n",
      "0 entries wrong in matched columns.\n",
      "\n",
      "Checking the values of X recovered.\n",
      "76.9 % of entries correctly recovered.\n",
      "0.0 % of entries in correct location but have wrong value for location.\n",
      "23.1 % of entries missing.\n",
      "\n"
     ]
    }
   ],
   "source": [
    "if passed1 == True:\n",
    "    max_epoch = 5\n",
    "    tol = 10**-8\n",
    "    X_sparsity1 = 0\n",
    "    Y_frob1 = 0\n",
    "    comp_time1 = 0\n",
    "    A_sparsity1 = np.count_nonzero(A1)\n",
    "    A_rec1 = np.zeros((m1,n1))\n",
    "    X_rec1 = np.zeros((n1,N2))\n",
    "    frob_error_series1 = np.ones(max_epoch)\n",
    "    A_entries1 = np.zeros( max_epoch)\n",
    "    X_entries1 = np.zeros(max_epoch)\n",
    "    total_entries1 = np.zeros(max_epoch)\n",
    "\n",
    "    print(\"Solving problem with k/n = \", str.format('{0:.1f}', 100*k1/n1),'%, n = ', str.format('{0:.0f}', n1), ', N = ', str.format('{0:.0f}', N2))\n",
    "    X_sparsity1 = k1*N2\n",
    "    Y_frob1 = np.sqrt(sum(sum(Y1**2)))\n",
    "    [A_rec1, X_rec1, frob_error_series1, total_entries1, A_entries1, X_entries1, comp_time1] = EBR(Y1,N2,m1,n1,d,k1,eps,max_epoch,A_sparsity1,X_sparsity1,Y_frob1)\n",
    "    print(\"\")\n",
    "    P1 = check_recon_A(A1,A_rec1,d,eps,n1)\n",
    "    print(\"\")\n",
    "    check_recon_X(X1,X_rec1,P1,N2,k1,n1)\n",
    "    print(\"\")"
   ]
  },
  {
   "cell_type": "code",
   "execution_count": 30,
   "metadata": {},
   "outputs": [
    {
     "name": "stdout",
     "output_type": "stream",
     "text": [
      "Solving problem with k/n =  4.0 %, n =  1500 , N =  750\n",
      "Epoch  0  processed, l_2 error =  45.34 %, A l_0 error = 0.00 %, X l_0 error = 41.69 %.\n",
      "Epoch  1  processed, l_2 error =  25.29 %, A l_0 error = 0.00 %, X l_0 error = 27.90 %.\n",
      "Epoch  2  processed, l_2 error =  16.94 %, A l_0 error = 0.00 %, X l_0 error = 24.22 %.\n",
      "Epoch  3  processed, l_2 error =  13.69 %, A l_0 error = 0.00 %, X l_0 error = 23.21 %.\n",
      "Epoch  4  processed, l_2 error =  12.70 %, A l_0 error = 0.00 %, X l_0 error = 22.94 %.\n",
      "\n",
      "Checking reconstruction of A.\n",
      "100.0 % of columns fully formed.\n",
      "0.0 % of columns partially formed.\n",
      "0.0 % of columns have no entries.\n",
      "100.0 % of reconstructed (fully or partially) columns match with a column in target matrix.\n",
      "0 % of entries missing in total.\n",
      "0 entries missing in matched columns.\n",
      "0 entries wrong in matched columns.\n",
      "\n",
      "Checking the values of X recovered.\n",
      "77.1 % of entries correctly recovered.\n",
      "0.0 % of entries in correct location but have wrong value for location.\n",
      "22.9 % of entries missing.\n",
      "\n"
     ]
    }
   ],
   "source": [
    "if passed2 == True:\n",
    "    max_epoch = 5\n",
    "    tol = 10**-8\n",
    "    X_sparsity2 = 0\n",
    "    Y_frob2 = 0\n",
    "    comp_time2 = 0\n",
    "    A_sparsity2 = np.count_nonzero(A2)\n",
    "    A_rec2 = np.zeros((m2,n2))\n",
    "    X_rec2 = np.zeros((n2,N2))\n",
    "    frob_error_series2= np.ones(max_epoch)\n",
    "    A_entries2 = np.zeros( max_epoch)\n",
    "    X_entries2 = np.zeros(max_epoch)\n",
    "    total_entries2 = np.zeros(max_epoch)\n",
    "\n",
    "    print(\"Solving problem with k/n = \", str.format('{0:.1f}', 100*k2/n2),'%, n = ', str.format('{0:.0f}', n2), ', N = ', str.format('{0:.0f}', N2))\n",
    "    X_sparsity2 = k2*N2\n",
    "    Y_frob2 = np.sqrt(sum(sum(Y2**2)))\n",
    "    [A_rec2, X_rec2, frob_error_series2, total_entries2, A_entries2, X_entries2, comp_time2] = EBR(Y2,N2,m2,n2,d,k2,eps,max_epoch,A_sparsity2,X_sparsity2,Y_frob2)\n",
    "    print(\"\")\n",
    "    P2 = check_recon_A(A2,A_rec2,d,eps,n2)\n",
    "    print(\"\")\n",
    "    check_recon_X(X2,X_rec2,P2,N2,k2, n2)\n",
    "    print(\"\")"
   ]
  },
  {
   "cell_type": "code",
   "execution_count": 31,
   "metadata": {},
   "outputs": [
    {
     "name": "stdout",
     "output_type": "stream",
     "text": [
      "Solving problem with k/n =  4.0 %, n =  2000 , N =  750\n",
      "Epoch  0  processed, l_2 error =  45.93 %, A l_0 error = 0.00 %, X l_0 error = 41.70 %.\n",
      "Epoch  1  processed, l_2 error =  24.99 %, A l_0 error = 0.00 %, X l_0 error = 27.56 %.\n",
      "Epoch  2  processed, l_2 error =  16.29 %, A l_0 error = 0.00 %, X l_0 error = 23.87 %.\n",
      "Epoch  3  processed, l_2 error =  13.34 %, A l_0 error = 0.00 %, X l_0 error = 22.86 %.\n",
      "Epoch  4  processed, l_2 error =  12.25 %, A l_0 error = 0.00 %, X l_0 error = 22.57 %.\n",
      "\n",
      "Checking reconstruction of A.\n",
      "100.0 % of columns fully formed.\n",
      "0.0 % of columns partially formed.\n",
      "0.0 % of columns have no entries.\n",
      "100.0 % of reconstructed (fully or partially) columns match with a column in target matrix.\n",
      "0 % of entries missing in total.\n",
      "0 entries missing in matched columns.\n",
      "0 entries wrong in matched columns.\n",
      "\n",
      "Checking the values of X recovered.\n",
      "77.4 % of entries correctly recovered.\n",
      "0.0 % of entries in correct location but have wrong value for location.\n",
      "22.6 % of entries missing.\n",
      "\n"
     ]
    }
   ],
   "source": [
    "if passed3 == True:\n",
    "    max_epoch = 5\n",
    "    tol = 10**-8\n",
    "    X_sparsity3 = 0\n",
    "    Y_frob3 = 0\n",
    "    comp_time3 = 0\n",
    "    A_sparsity3 = np.count_nonzero(A3)\n",
    "    A_rec3 = np.zeros((m3,n3))\n",
    "    X_rec3 = np.zeros((n3,N2))\n",
    "    frob_error_series3= np.ones(max_epoch)\n",
    "    A_entries3 = np.zeros(max_epoch)\n",
    "    X_entries3 = np.zeros(max_epoch)\n",
    "    total_entries3 = np.zeros(max_epoch)\n",
    "\n",
    "    print(\"Solving problem with k/n = \", str.format('{0:.1f}', 100*k3/n3),'%, n = ', str.format('{0:.0f}', n3), ', N = ', str.format('{0:.0f}', N2))\n",
    "    X_sparsity3 = k3*N2\n",
    "    Y_frob3 = np.sqrt(sum(sum(Y3**2)))\n",
    "    [A_rec3, X_rec3, frob_error_series3, total_entries3, A_entries3, X_entries3, comp_time3] = EBR(Y3,N2,m3,n3,d,k3,eps,max_epoch,A_sparsity3,X_sparsity3,Y_frob3)\n",
    "    print(\"\")\n",
    "    P3 = check_recon_A(A3,A_rec3,d,eps,n3)\n",
    "    print(\"\")\n",
    "    check_recon_X(X3,X_rec3,P3,N2,k3, n3)\n",
    "    print(\"\")"
   ]
  },
  {
   "cell_type": "code",
   "execution_count": 32,
   "metadata": {},
   "outputs": [
    {
     "name": "stdout",
     "output_type": "stream",
     "text": [
      "Running times:\n",
      "n1=1000 %, 191.2712630580063 s\n",
      "n2=1500 %, 503.120722112013 s\n",
      "n3=2000 %, 949.7894757820177 s\n"
     ]
    },
    {
     "data": {
      "text/plain": [
       "<matplotlib.figure.Figure at 0x117cf9390>"
      ]
     },
     "metadata": {},
     "output_type": "display_data"
    },
    {
     "data": {
      "image/png": "[encoded data removed]",
      "text/plain": [
       "<matplotlib.figure.Figure at 0x117cdd358>"
      ]
     },
     "metadata": {},
     "output_type": "display_data"
    }
   ],
   "source": [
    "plt.figure(3).clear()\n",
    "\n",
    "plot_A_entries1 = 100*A_entries1/A_sparsity1\n",
    "plot_X_entries1 = 100*X_entries1/X_sparsity1\n",
    "plot_frob1 = 100*frob_error_series1/np.sqrt(sum(sum(Y1**2)))\n",
    "\n",
    "plot_A_entries2 = 100*A_entries2/A_sparsity2\n",
    "plot_X_entries2 = 100*X_entries2/X_sparsity2\n",
    "plot_frob2 = 100*frob_error_series2/np.sqrt(sum(sum(Y2**2)))\n",
    "\n",
    "plot_A_entries3 = 100*A_entries3/A_sparsity3\n",
    "plot_X_entries3 = 100*X_entries3/X_sparsity3\n",
    "plot_frob3 = 100*frob_error_series3/np.sqrt(sum(sum(Y3**2)))\n",
    "\n",
    "plot_epoch = 5\n",
    "\n",
    "print(\"Running times:\")\n",
    "print(\"n1=%s %%, %s s\"%(n1, comp_time1))\n",
    "print(\"n2=%s %%, %s s\"%(n2, comp_time2))\n",
    "print(\"n3=%s %%, %s s\"%(n3, comp_time3))\n",
    "    \n",
    "plt.figure(2)\n",
    "plt.figure(figsize=(15,20))\n",
    "plt.subplot(2,2,1)\n",
    "plt.plot(np.arange(max_epoch)+1, plot_frob1, 'g-', label=\"n=%s\"%(n1))\n",
    "plt.plot(np.arange(max_epoch)+1, plot_frob2, 'b-', label=\"n=%s\"%(n2))\n",
    "plt.plot(np.arange(max_epoch)+1, plot_frob3, 'r-', label=\"n=%s\"%(n3))\n",
    "plt.title('Frobenius error percentage of Y-AX')\n",
    "plt.grid(True)\n",
    "plt.xlabel('Epochs')\n",
    "plt.ylabel('Frobenius error percentage of Y-AX (%)')\n",
    "plt.xlim(1,plot_epoch)\n",
    "plt.legend()\n",
    "plt.subplot(2,2,2)\n",
    "plt.plot(np.arange(max_epoch)+1, plot_A_entries1, 'g-', label=\"A, n=%s\"%(n1))\n",
    "plt.plot(np.arange(max_epoch)+1, plot_X_entries1, 'g--',label=\"X, n=%s\"%(n1))\n",
    "plt.plot(np.arange(max_epoch)+1, plot_A_entries2, 'b-', label=\"A, n=%s\"%(n2))\n",
    "plt.plot(np.arange(max_epoch)+1, plot_X_entries2, 'b--',label=\"X, n=%s\"%(n2))\n",
    "plt.plot(np.arange(max_epoch)+1, plot_A_entries3, 'r-', label=\"A, n=%s\"%(n3))\n",
    "plt.plot(np.arange(max_epoch)+1, plot_X_entries3, 'r--',label=\"X, n=%s\"%(n3))\n",
    "plt.grid(True)\n",
    "plt.title('Percentage of entries of A and X Recovered with N = %s'%(N2))\n",
    "plt.xlabel('Epochs')\n",
    "plt.ylabel('Percentage of entries of A and X recovered (%)')\n",
    "plt.xlim(1,plot_epoch)\n",
    "plt.legend()\n",
    "plt.savefig('./figures_ACHA/varying_N_EBR.eps', format='eps', bbox_inches='tight')"
   ]
  },
  {
   "cell_type": "markdown",
   "metadata": {},
   "source": [
    "# Experiment 3 - post processing improvement in recovering $X$"
   ]
  },
  {
   "cell_type": "code",
   "execution_count": 36,
   "metadata": {
    "collapsed": true
   },
   "outputs": [],
   "source": [
    "# PARAMETERS\n",
    "gamma =0.04\n",
    "beta = 14/15\n",
    "\n",
    "# Test 1\n",
    "n4 = 1500;\n",
    "m4 = int(np.ceil(beta*n4))\n",
    "k4 = int(np.ceil(gamma*n4)) \n",
    "d4 = 10\n",
    "\n",
    "# Shared\n",
    "b1=1\n",
    "b2=5\n",
    "\n",
    "N4 = 750\n",
    "eps = 1/6;"
   ]
  },
  {
   "cell_type": "code",
   "execution_count": 37,
   "metadata": {},
   "outputs": [
    {
     "name": "stdout",
     "output_type": "stream",
     "text": [
      "A passes coherence test, mu_A =  3.00 , tau =  3.33 .\n",
      "Generated dictionary that passes the coherency test\n"
     ]
    }
   ],
   "source": [
    "#### Generate dictionary for experiment 3\n",
    "num_generations = 0\n",
    "passed4 = False\n",
    "while passed4==False and num_generations < 100:\n",
    "    A4 = generate_exp_dictionary2(m4,n4,d4);\n",
    "    passed4 = check_dictionary(eps,n4,d,A4)\n",
    "    num_generations += 1\n",
    "if passed4 == True:\n",
    "    print(\"Generated dictionary that passes the coherency test\")\n",
    "else:\n",
    "    print(\"Failed to generate dictionary that passes the coherency test, consider different parameters\")\n",
    "\n",
    "X4 = np.zeros((n4, N4))\n",
    "Y4 = np.zeros((m4, N4))\n",
    "\n",
    "for i in range(N4):\n",
    "    X4[:,i] = generate_latent(n4,k4,b1,b2)\n",
    "Y4 = A4@X4"
   ]
  },
  {
   "cell_type": "code",
   "execution_count": 38,
   "metadata": {},
   "outputs": [
    {
     "name": "stdout",
     "output_type": "stream",
     "text": [
      "Solving problem with k/n =  4.0 %, n =  1500 , N =  750\n",
      "Epoch  0  processed, l_2 error =  45.65 %, A l_0 error = 0.00 %, X l_0 error = 41.39 %.\n",
      "Epoch  1  processed, l_2 error =  25.01 %, A l_0 error = 0.00 %, X l_0 error = 27.46 %.\n",
      "Epoch  2  processed, l_2 error =  16.53 %, A l_0 error = 0.00 %, X l_0 error = 23.88 %.\n",
      "Epoch  3  processed, l_2 error =  13.73 %, A l_0 error = 0.00 %, X l_0 error = 22.96 %.\n",
      "Epoch  4  processed, l_2 error =  12.82 %, A l_0 error = 0.00 %, X l_0 error = 22.69 %.\n",
      "\n",
      "Checking reconstruction of A.\n",
      "100.0 % of columns fully formed.\n",
      "0.0 % of columns partially formed.\n",
      "0.0 % of columns have no entries.\n",
      "100.0 % of reconstructed (fully or partially) columns match with a column in target matrix.\n",
      "0 % of entries missing in total.\n",
      "0 entries missing in matched columns.\n",
      "0 entries wrong in matched columns.\n",
      "\n",
      "Checking the values of X recovered.\n",
      "77.3 % of entries correctly recovered.\n",
      "0.0 % of entries in correct location but have wrong value for location.\n",
      "22.7 % of entries missing.\n",
      "\n"
     ]
    }
   ],
   "source": [
    "# Run standard EBR\n",
    "if passed1 == True:\n",
    "    max_epoch = 5\n",
    "    tol = 10**-8\n",
    "    X_sparsity4 = N4*k4\n",
    "    Y_frob4 = 0\n",
    "    comp_time4 = 0\n",
    "    A_sparsity4 = np.count_nonzero(A4)\n",
    "    A_rec4 = np.zeros((m4,n4))\n",
    "    X_rec4 = np.zeros((n4,N4))\n",
    "    frob_error_series4 = np.ones(max_epoch)\n",
    "    A_entries4 = np.zeros( max_epoch)\n",
    "    X_entries4 = np.zeros(max_epoch)\n",
    "    total_entries4 = np.zeros(max_epoch)\n",
    "\n",
    "    print(\"Solving problem with k/n = \", str.format('{0:.1f}', 100*k4/n4),'%, n = ', str.format('{0:.0f}', n4), ', N = ', str.format('{0:.0f}', N4))\n",
    "    Y_frob4 = np.sqrt(sum(sum(Y4**2)))\n",
    "    [A_rec4, X_rec4, frob_error_series4, total_entries4, A_entries4, X_entries4, comp_time4] = EBR(Y4,N4,m4,n4,d4,k4,eps,max_epoch,A_sparsity4,X_sparsity4,Y_frob4)\n",
    "    print(\"\")\n",
    "    P4 = check_recon_A(A4,A_rec4,d4,eps,n4)\n",
    "    print(\"\")\n",
    "    check_recon_X(X4,X_rec4,P4,N4,k4,n4)\n",
    "    print(\"\")\n",
    "    "
   ]
  },
  {
   "cell_type": "code",
   "execution_count": 39,
   "metadata": {},
   "outputs": [
    {
     "name": "stdout",
     "output_type": "stream",
     "text": [
      "Solving problem with k/n =  4.0 %, n =  1500 , N =  750\n",
      "Epoch  0  processed, l_2 error =  5.00 %, A l_0 error = 0.00 %, X l_0 error = 21.33 %.\n",
      "Epoch  1  processed, l_2 error =  3.28 %, A l_0 error = 0.00 %, X l_0 error = 20.97 %.\n",
      "Epoch  2  processed, l_2 error =  3.24 %, A l_0 error = 0.00 %, X l_0 error = 20.96 %.\n",
      "No partial supports recovered, terminating algorithm\n",
      "\n",
      "Checking reconstruction of A.\n",
      "100.0 % of columns fully formed.\n",
      "0.0 % of columns partially formed.\n",
      "0.0 % of columns have no entries.\n",
      "100.0 % of reconstructed (fully or partially) columns match with a column in target matrix.\n",
      "0 % of entries missing in total.\n",
      "0 entries missing in matched columns.\n",
      "0 entries wrong in matched columns.\n",
      "\n",
      "Checking the values of X recovered.\n",
      "Column number =  4 , row number =  580 , true value =  4.65964825751 value found =  9.31929651501\n",
      "Column number =  37 , row number =  1045 , true value =  4.40324069286 value found =  8.80648138571\n",
      "Column number =  84 , row number =  250 , true value =  4.38603205342 value found =  8.77206410683\n",
      "Column number =  175 , row number =  166 , true value =  3.76206736964 value found =  11.9478591261\n",
      "Column number =  175 , row number =  872 , true value =  4.4237243868 value found =  12.6095161432\n",
      "Column number =  201 , row number =  1320 , true value =  3.10223063525 value found =  6.2044612705\n",
      "Column number =  240 , row number =  247 , true value =  1.79329998176 value found =  3.58659996352\n",
      "Column number =  244 , row number =  837 , true value =  3.04347757984 value found =  4.41162016286\n",
      "Column number =  412 , row number =  317 , true value =  4.48264720391 value found =  11.1564843402\n",
      "Column number =  412 , row number =  1032 , true value =  2.19118993234 value found =  8.86502706858\n",
      "Column number =  439 , row number =  56 , true value =  1.74719604424 value found =  7.91162932847\n",
      "Column number =  439 , row number =  548 , true value =  4.41723724 value found =  10.5816705242\n",
      "Column number =  469 , row number =  422 , true value =  3.14230550436 value found =  6.28461100871\n",
      "Column number =  502 , row number =  380 , true value =  2.63111717807 value found =  5.26223435615\n",
      "Column number =  635 , row number =  921 , true value =  3.21346342486 value found =  6.42692684973\n",
      "Column number =  685 , row number =  370 , true value =  2.74532087103 value found =  5.49064174207\n",
      "79.0 % of entries correctly recovered.\n",
      "0.0 % of entries in correct location but have wrong value for location.\n",
      "21.0 % of entries missing.\n",
      "\n"
     ]
    }
   ],
   "source": [
    "# Run EBR interweaved with l-0 decode\n",
    "if passed1 == True:\n",
    "    max_epoch = 5\n",
    "    alpha = 3\n",
    "    tol = 10**-8\n",
    "    Y_frob4 = 0\n",
    "    comp_time5 = 0\n",
    "    A_rec5 = np.zeros((m4,n4))\n",
    "    X_rec5 = np.zeros((n4,N4))\n",
    "    frob_error_series5 = np.ones(max_epoch)\n",
    "    A_entries5 = np.zeros(max_epoch)\n",
    "    X_entries5 = np.zeros(max_epoch)\n",
    "    total_entries5 = np.zeros(max_epoch)\n",
    "\n",
    "    print(\"Solving problem with k/n = \", str.format('{0:.1f}', 100*k4/n4),'%, n = ', str.format('{0:.0f}', n4), ', N = ', str.format('{0:.0f}', N4))\n",
    "    Y_frob4 = np.sqrt(sum(sum(Y4**2)))\n",
    "    [A_rec5, X_rec5, frob_error_series5, total_entries5, A_entries5, X_entries5, comp_time5] = EBR_l0(Y4,N4,m4,n4,d4,k4,eps,max_epoch,A_sparsity4,X_sparsity4,Y_frob4, alpha)\n",
    "    print(\"\")\n",
    "    P5 = check_recon_A(A4,A_rec5,d4,eps,n4)\n",
    "    print(\"\")\n",
    "    check_recon_X(X4,X_rec5,P5,N4,k4,n4)\n",
    "    print(\"\")"
   ]
  },
  {
   "cell_type": "code",
   "execution_count": 42,
   "metadata": {},
   "outputs": [
    {
     "name": "stdout",
     "output_type": "stream",
     "text": [
      "Running times:\n",
      "n=1500 %, 468.1914339979994 s\n"
     ]
    },
    {
     "data": {
      "text/plain": [
       "<matplotlib.figure.Figure at 0x10e432cf8>"
      ]
     },
     "metadata": {},
     "output_type": "display_data"
    },
    {
     "data": {
      "image/png": "[encoded data removed]",
      "text/plain": [
       "<matplotlib.figure.Figure at 0x10e432320>"
      ]
     },
     "metadata": {},
     "output_type": "display_data"
    }
   ],
   "source": [
    "plt.figure(4).clear()\n",
    "\n",
    "plot_A_entries4 = 100*A_entries4/A_sparsity4\n",
    "plot_X_entries4 = 100*X_entries4/X_sparsity4\n",
    "plot_frob4 = 100*frob_error_series4/np.sqrt(sum(sum(Y4**2)))\n",
    "\n",
    "plot_A_entries5 = 100*A_entries5/A_sparsity4\n",
    "plot_X_entries5 = 100*X_entries5/X_sparsity4\n",
    "plot_frob5 = 100*frob_error_series5/np.sqrt(sum(sum(Y4**2)))\n",
    "\n",
    "plot_epoch = 5\n",
    "\n",
    "print(\"Running times:\")\n",
    "print(\"n=%s %%, %s s\"%(n4, comp_time4))\n",
    "\n",
    "plt.figure(4)\n",
    "plt.figure(figsize=(15,20))\n",
    "plt.subplot(2,2,1)\n",
    "plt.plot(np.arange(max_epoch)+1, plot_frob4, 'g-', label=\"EBR\")\n",
    "plt.plot(np.arange(max_epoch)+1, plot_frob5, 'b-', label=\"EBR & l0\")\n",
    "plt.title('Frobenius Error of Reconstruction')\n",
    "plt.grid(True)\n",
    "plt.xlabel('Epochs')\n",
    "plt.ylabel('Frobenius error percentage of Y-AX (%)')\n",
    "plt.xlim(1,plot_epoch)\n",
    "plt.legend()\n",
    "plt.subplot(2,2,2)\n",
    "plt.plot(np.arange(max_epoch)+1, plot_A_entries4, 'k-', label=\"A, EBR\")\n",
    "plt.plot(np.arange(max_epoch)+1, plot_A_entries5, 'k-', label=\"A, EBR & l0\")\n",
    "plt.plot(np.arange(max_epoch)+1, plot_X_entries4, 'g--',label=\"X, EBR\")\n",
    "plt.plot(np.arange(max_epoch)+1, plot_X_entries5, 'b--',label=\"X, EBR & l0\")\n",
    "plt.grid(True)\n",
    "plt.title('Percentage of entries of A and X Recovered')\n",
    "plt.xlabel('Epochs')\n",
    "plt.ylabel('Percentage of entries of A and X recovered (%)')\n",
    "plt.xlim(1,plot_epoch)\n",
    "plt.legend()\n",
    "plt.savefig('./figures_ACHA/EBR_vs_EBR_l0.eps', format='eps', bbox_inches='tight')"
   ]
  },
  {
   "cell_type": "code",
   "execution_count": null,
   "metadata": {
    "collapsed": true
   },
   "outputs": [],
   "source": []
  }
 ],
 "metadata": {
  "kernelspec": {
   "display_name": "Python [conda env:pytorch-env]",
   "language": "python",
   "name": "conda-env-pytorch-env-py"
  },
  "language_info": {
   "codemirror_mode": {
    "name": "ipython",
    "version": 3
   },
   "file_extension": ".py",
   "mimetype": "text/x-python",
   "name": "python",
   "nbconvert_exporter": "python",
   "pygments_lexer": "ipython3",
   "version": "3.6.2"
  }
 },
 "nbformat": 4,
 "nbformat_minor": 2
}
