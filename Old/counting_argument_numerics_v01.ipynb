{
 "cells": [
  {
   "cell_type": "code",
   "execution_count": 3,
   "metadata": {},
   "outputs": [
    {
     "name": "stdout",
     "output_type": "stream",
     "text": [
      "-0.69314718056\n"
     ]
    }
   ],
   "source": [
    "import numpy as np\n",
    "print(np.log(0.5))"
   ]
  },
  {
   "cell_type": "code",
   "execution_count": 16,
   "metadata": {},
   "outputs": [
    {
     "name": "stdout",
     "output_type": "stream",
     "text": [
      "0.1000000014\n",
      "0.0\n"
     ]
    }
   ],
   "source": [
    "n = 10000000000\n",
    "k = 100000000\n",
    "d= 7\n",
    "m = n/2\n",
    "alpha = d/m + n**(-0.1)\n",
    "\n",
    "approx = ((n*(1-alpha) - k+2)/ (n-k+1))**(k-1)\n",
    "\n",
    "print(alpha)\n",
    "print(approx)"
   ]
  },
  {
   "cell_type": "code",
   "execution_count": 17,
   "metadata": {},
   "outputs": [
    {
     "name": "stdout",
     "output_type": "stream",
     "text": [
      "0.466666666667\n",
      "0.000302032884977\n"
     ]
    }
   ],
   "source": [
    "import scipy.special\n",
    "\n",
    "\n",
    "a1 = scipy.special.comb(8, 3)\n",
    "b1 = scipy.special.comb(10, 3)\n",
    "c1 = a1/b1\n",
    "print(c1)\n",
    "\n",
    "a2= scipy.special.comb(80, 30)\n",
    "b2 = scipy.special.comb(100, 30)\n",
    "c2 = a2/b2\n",
    "print(c2)"
   ]
  },
  {
   "cell_type": "code",
   "execution_count": 50,
   "metadata": {},
   "outputs": [
    {
     "name": "stdout",
     "output_type": "stream",
     "text": [
      "match\n",
      "1\n",
      "[ 1.  2.]\n",
      "[1 3]\n"
     ]
    }
   ],
   "source": [
    "x = np.array([0,1,0,2,0])\n",
    "a = 2\n",
    "b = np.where(x==a)[0]\n",
    "if not b:\n",
    "    print('no match')\n",
    "    \n",
    "else:\n",
    "    print('match')\n",
    "    \n",
    "print(len(b))\n",
    "x_locs = np.nonzero(x)[0]\n",
    "x_vals = np.zeros(len(x_locs))\n",
    "\n",
    "for i in range(len(x_locs)):\n",
    "    x_vals[i] = x[x_locs[i]]\n",
    "    \n",
    "print(x_vals)\n",
    "print(x_locs)"
   ]
  },
  {
   "cell_type": "code",
   "execution_count": null,
   "metadata": {
    "collapsed": true
   },
   "outputs": [],
   "source": []
  }
 ],
 "metadata": {
  "kernelspec": {
   "display_name": "Python [conda env:pytorch-env]",
   "language": "python",
   "name": "conda-env-pytorch-env-py"
  },
  "language_info": {
   "codemirror_mode": {
    "name": "ipython",
    "version": 3
   },
   "file_extension": ".py",
   "mimetype": "text/x-python",
   "name": "python",
   "nbconvert_exporter": "python",
   "pygments_lexer": "ipython3",
   "version": "3.6.2"
  }
 },
 "nbformat": 4,
 "nbformat_minor": 2
}
